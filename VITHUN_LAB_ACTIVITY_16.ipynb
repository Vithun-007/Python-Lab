{
 "cells": [
  {
   "cell_type": "markdown",
   "id": "898f1f43-8280-41b7-a186-70582fcfa283",
   "metadata": {},
   "source": [
    "## LAB ACTIVITY 16\n",
    "## NAME : VITHUN GS; REG NO : 22MID0099; COURSE CODE: CSI3007; LAB : L7+L8;\n",
    "## DATE : 30/09/2025"
   ]
  },
  {
   "cell_type": "markdown",
   "id": "72645384-e421-43e3-b935-a331efa6462f",
   "metadata": {},
   "source": [
    "# MultiIndex creation, indexing, slicing, swapping, alignment, and advanced operations in Pandas."
   ]
  },
  {
   "cell_type": "markdown",
   "id": "a223c3d5-09cb-4ef7-9b1a-cc5f083ffaf3",
   "metadata": {},
   "source": [
    "#### 1. Creating a Series using pandas"
   ]
  },
  {
   "cell_type": "code",
   "execution_count": 7,
   "id": "d7cd5443-3c1f-45a7-9f2e-10bb303a0762",
   "metadata": {},
   "outputs": [
    {
     "name": "stdout",
     "output_type": "stream",
     "text": [
      "0     10\n",
      "1    3.5\n",
      "2      b\n",
      "3      7\n",
      "4      8\n",
      "dtype: object\n"
     ]
    }
   ],
   "source": [
    "## TASK-1\n",
    "import pandas as pd   # Importing the pandas library and giving it the alias 'pd'\n",
    "\n",
    "# Initializing a Series from a list\n",
    "data = [10, 3.5, 'b', 7, 8]   # A mixed list with integer, float, string, and integer values\n",
    "series_from_list = pd.Series(data)  # Creating a Pandas Series from the list\n",
    "print(series_from_list)  # Printing the Series to see its index and values"
   ]
  },
  {
   "cell_type": "markdown",
   "id": "4f883282-40ce-44dc-b0f1-732ed9137ff7",
   "metadata": {},
   "source": [
    "#### 2.Creating a DataFrame using a dictionary"
   ]
  },
  {
   "cell_type": "code",
   "execution_count": 9,
   "id": "2e45cca3-2321-4579-8fff-8e3fabbd655c",
   "metadata": {},
   "outputs": [
    {
     "name": "stdout",
     "output_type": "stream",
     "text": [
      "      Name  Age  Score\n",
      "0   Kamesh   26     88\n",
      "1   Sonali   21     91\n",
      "2  Vedhika   23     80\n",
      "3  Rithika   27     95\n"
     ]
    }
   ],
   "source": [
    "## TASK-2\n",
    "import pandas as pd   # Import pandas library for data manipulation\n",
    "\n",
    "# Creating a DataFrame using a dictionary\n",
    "data = {\n",
    "    'Name': ['Kamesh', 'Sonali', 'Vedhika', 'Rithika'],  # Column 'Name' with string values\n",
    "    'Age': [26, 21, 23, 27],                     # Column 'Age' with integer values\n",
    "    'Score': [88, 91, 80, 95]                    # Column 'Score' with integer values\n",
    "}\n",
    "\n",
    "df = pd.DataFrame(data)   # Converting dictionary into a DataFrame\n",
    "print(df)                 # Printing the DataFrame to display rows and columns\n"
   ]
  },
  {
   "cell_type": "code",
   "execution_count": 11,
   "id": "6cff9b2b-e8af-48d6-97c2-8a47ad218e05",
   "metadata": {},
   "outputs": [
    {
     "name": "stdout",
     "output_type": "stream",
     "text": [
      "w       NaN\n",
      "x       NaN\n",
      "y     800.0\n",
      "z    1500.0\n",
      "dtype: float64\n"
     ]
    }
   ],
   "source": [
    "## TASK-3\n",
    "import pandas as pd   # Import pandas library\n",
    "\n",
    "# Creating first Series with custom indices\n",
    "s1 = pd.Series([10, 20, 30], index=[\"x\", \"y\", \"z\"])  \n",
    "\n",
    "# Creating second Series with overlapping and non-overlapping indices\n",
    "s2 = pd.Series([40, 50, 60], index=[\"y\", \"z\", \"w\"])  \n",
    "\n",
    "# Multiplying the two Series\n",
    "print(s1 * s2)  \n"
   ]
  },
  {
   "cell_type": "code",
   "execution_count": 13,
   "id": "f99d41c7-2249-4d72-a921-199390935a41",
   "metadata": {},
   "outputs": [
    {
     "name": "stdout",
     "output_type": "stream",
     "text": [
      "0    50\n",
      "1    70\n",
      "2    90\n",
      "dtype: int64\n"
     ]
    }
   ],
   "source": [
    "## TASK-4\n",
    "import pandas as pd   # Import pandas library\n",
    "\n",
    "# Creating first Series with default index [0, 1, 2]\n",
    "series_a = pd.Series([10, 20, 30])  \n",
    "\n",
    "# Creating second Series with default index [0, 1, 2]\n",
    "series_b = pd.Series([40, 50, 60])  \n",
    "\n",
    "# Adding the two Series element-wise (index-wise)\n",
    "sum_series = series_a + series_b  \n",
    "\n",
    "# Printing the resulting Series\n",
    "print(sum_series)  "
   ]
  },
  {
   "cell_type": "markdown",
   "id": "92ece66f-af43-4fee-b64a-8aea17f03085",
   "metadata": {},
   "source": [
    "#### 3. Creating a MultiIndex Series in Different Ways"
   ]
  },
  {
   "cell_type": "code",
   "execution_count": 15,
   "id": "da97350f-1d00-4b91-9122-c0fb4d62d4f4",
   "metadata": {},
   "outputs": [
    {
     "name": "stdout",
     "output_type": "stream",
     "text": [
      "Letter  Subject  \n",
      "X       History      75\n",
      "        Geography    82\n",
      "Y       History      89\n",
      "        Geography    95\n",
      "dtype: int64\n"
     ]
    }
   ],
   "source": [
    "## TASK-5\n",
    "import pandas as pd   # Import pandas library\n",
    "\n",
    "# Defining two arrays that will act as hierarchical index levels\n",
    "arrays = [\n",
    "    ['X', 'X', 'Y', 'Y'],               # First level of index\n",
    "    ['History', 'Geography', 'History', 'Geography']  # Second level of index\n",
    "]\n",
    "\n",
    "# Creating a MultiIndex object from the arrays with custom names\n",
    "index = pd.MultiIndex.from_arrays(arrays, names=('Letter', 'Subject'))\n",
    "\n",
    "# Creating a Series with the MultiIndex\n",
    "multi_s = pd.Series([75, 82, 89, 95], index=index)\n",
    "\n",
    "# Printing the MultiIndex Series\n",
    "print(multi_s)"
   ]
  },
  {
   "cell_type": "code",
   "execution_count": 19,
   "id": "bbe2f1f4-5f2f-43e7-b406-22eeb5266031",
   "metadata": {},
   "outputs": [
    {
     "name": "stdout",
     "output_type": "stream",
     "text": [
      "Letter  Subject  \n",
      "C       History      76\n",
      "        Geography    82\n",
      "D       History      89\n",
      "        Geography    94\n",
      "dtype: int64\n"
     ]
    }
   ],
   "source": [
    "## TASK-6\n",
    "import pandas as pd   # Import pandas library\n",
    "\n",
    "# Defining list of tuples, each tuple represents one index pair\n",
    "tuples = [\n",
    "    ('C', 'History'), \n",
    "    ('C', 'Geography'), \n",
    "    ('D', 'History'), \n",
    "    ('D', 'Geography')\n",
    "]\n",
    "\n",
    "# Creating MultiIndex from tuples with level names\n",
    "index = pd.MultiIndex.from_tuples(tuples, names=('Letter', 'Subject'))\n",
    "\n",
    "# Creating a Series with values mapped to the MultiIndex\n",
    "multi_s = pd.Series([76, 82, 89, 94], index=index)\n",
    "\n",
    "# Printing the MultiIndex Series\n",
    "print(multi_s)"
   ]
  },
  {
   "cell_type": "code",
   "execution_count": 21,
   "id": "f0379082-a15f-41e6-a2a9-c71d7a8790cc",
   "metadata": {},
   "outputs": [
    {
     "name": "stdout",
     "output_type": "stream",
     "text": [
      "Letter  Subject  \n",
      "C       History      70\n",
      "        Geography    75\n",
      "D       History      88\n",
      "        Geography    93\n",
      "dtype: int64\n"
     ]
    }
   ],
   "source": [
    "## TASK-7\n",
    "# Creating MultiIndex from the Cartesian product of two lists\n",
    "index = pd.MultiIndex.from_product(\n",
    "    [['C', 'D'], ['History', 'Geography']],   # First list × Second list\n",
    "    names=('Letter', 'Subject')               # Naming index levels\n",
    ")\n",
    "\n",
    "# Creating a Series with values mapped to the MultiIndex\n",
    "multi_s = pd.Series([70, 75, 88, 93], index=index)\n",
    "\n",
    "# Printing the MultiIndex Series\n",
    "print(multi_s)"
   ]
  },
  {
   "cell_type": "code",
   "execution_count": 136,
   "id": "33873a87-07a0-4306-b789-51f12a68ee1b",
   "metadata": {},
   "outputs": [
    {
     "name": "stdout",
     "output_type": "stream",
     "text": [
      "MultiIndex Series from product:\n",
      " Letter  Subject  \n",
      "C       History      82\n",
      "        Geography    99\n",
      "D       History      98\n",
      "        Geography    98\n",
      "dtype: int32 \n",
      "\n"
     ]
    }
   ],
   "source": [
    "## TASK-8\n",
    "import numpy as np\n",
    "\n",
    "# From product (Cartesian product of iterables)\n",
    "iterables = [[\"C\", \"D\"], [\"History\", \"Geography\"]]\n",
    "index = pd.MultiIndex.from_product(iterables, names=(\"Letter\", \"Subject\"))\n",
    "multi_s = pd.Series(np.random.randint(60, 100, size=4), index=index) # Creating a Series with MultiIndex\n",
    "print(\"MultiIndex Series from product:\\n\", multi_s3, \"\\n\")"
   ]
  },
  {
   "cell_type": "code",
   "execution_count": 138,
   "id": "3f21cb2f-72e1-4191-8532-1fff96b47068",
   "metadata": {},
   "outputs": [
    {
     "name": "stdout",
     "output_type": "stream",
     "text": [
      "Letter  Subject  \n",
      "C       History      72\n",
      "        Geography    81\n",
      "D       History      89\n",
      "        Geography    96\n",
      "dtype: int64\n"
     ]
    }
   ],
   "source": [
    "## TASK-9\n",
    "# Creating a DataFrame that will be used to generate MultiIndex\n",
    "df = pd.DataFrame({\n",
    "    'Letter': ['C', 'C', 'D', 'D'],         # First column for first-level index\n",
    "    'Subject': ['History', 'Geography', 'History', 'Geography']  # Second column for second-level index\n",
    "})\n",
    "\n",
    "# Creating MultiIndex from the DataFrame\n",
    "index = pd.MultiIndex.from_frame(df, names=('Letter', 'Subject'))\n",
    "\n",
    "# Creating a Series with MultiIndex\n",
    "multi_s = pd.Series([72, 81, 89, 96], index=index)\n",
    "\n",
    "# Printing the MultiIndex Series\n",
    "print(multi_s)"
   ]
  },
  {
   "cell_type": "markdown",
   "id": "e8378cb9-c37a-4280-ae7b-7cc8ca1202fb",
   "metadata": {},
   "source": [
    "#### 4. Accessing and Indexing"
   ]
  },
  {
   "cell_type": "code",
   "execution_count": 140,
   "id": "aac4f9bf-bff2-4b98-8bd9-af73b7630281",
   "metadata": {},
   "outputs": [
    {
     "name": "stdout",
     "output_type": "stream",
     "text": [
      "Access all subjects for 'C':\n",
      " Subject\n",
      "History      72\n",
      "Geography    81\n",
      "dtype: int64 \n",
      "\n",
      "Access specific element (D, Geography):\n",
      " 96 \n",
      "\n"
     ]
    }
   ],
   "source": [
    "## TASK-10\n",
    "print(\"Access all subjects for 'C':\\n\", multi_s.loc[\"C\"], \"\\n\")\n",
    "print(\"Access specific element (D, Geography):\\n\", multi_s.loc[(\"D\", \"Geography\")], \"\\n\")"
   ]
  },
  {
   "cell_type": "markdown",
   "id": "137d67ca-d211-4788-8c25-73bcf7ede04c",
   "metadata": {},
   "source": [
    "#### 5. Slicing in MultiIndex"
   ]
  },
  {
   "cell_type": "code",
   "execution_count": 142,
   "id": "051dca9e-607e-4f54-8b78-8005cb62923e",
   "metadata": {},
   "outputs": [
    {
     "name": "stdout",
     "output_type": "stream",
     "text": [
      "Slicing from C to D:\n",
      " Letter  Subject  \n",
      "C       History      72\n",
      "        Geography    81\n",
      "D       History      89\n",
      "        Geography    96\n",
      "dtype: int64 \n",
      "\n",
      "Partial slice for all History:\n",
      " Letter\n",
      "C    72\n",
      "D    89\n",
      "dtype: int64 \n",
      "\n"
     ]
    }
   ],
   "source": [
    "## TASK-11\n",
    "print(\"Slicing from C to D:\\n\", multi_s.loc[\"C\":\"D\"], \"\\n\")\n",
    "print(\"Partial slice for all History:\\n\", multi_s.loc[:, \"History\"], \"\\n\")"
   ]
  },
  {
   "cell_type": "markdown",
   "id": "7d9696a5-cb46-457b-a9a5-d7a48dd750db",
   "metadata": {},
   "source": [
    "#### 6. Swapping and Reordering Levels"
   ]
  },
  {
   "cell_type": "code",
   "execution_count": 134,
   "id": "3e5ead3c-c2b6-426c-9928-ea3dab5bbd70",
   "metadata": {},
   "outputs": [
    {
     "name": "stdout",
     "output_type": "stream",
     "text": [
      "Swapping levels:\n",
      " Subject    Letter\n",
      "History    C         72\n",
      "Geography  C         81\n",
      "History    D         89\n",
      "Geography  D         96\n",
      "dtype: int64 \n",
      "\n",
      "Reordering levels:\n",
      " Subject    Letter\n",
      "History    C         72\n",
      "Geography  C         81\n",
      "History    D         89\n",
      "Geography  D         96\n",
      "dtype: int64 \n",
      "\n"
     ]
    }
   ],
   "source": [
    "## TASK-12\n",
    "print(\"Swapping levels:\\n\", multi_s.swaplevel(), \"\\n\")\n",
    "print(\"Reordering levels:\\n\", multi_s.reorder_levels([\"Subject\", \"Letter\"]), \"\\n\")"
   ]
  },
  {
   "cell_type": "markdown",
   "id": "458af3df-71b9-4dda-841e-dfc64af80eca",
   "metadata": {},
   "source": [
    "#### 7. Passing List of Arrays directly to Series / DataFrame"
   ]
  },
  {
   "cell_type": "code",
   "execution_count": 144,
   "id": "2ea25b43-e9ab-4ea5-a3f1-7681cdd63383",
   "metadata": {},
   "outputs": [
    {
     "name": "stdout",
     "output_type": "stream",
     "text": [
      "MultiIndex Series constructed automatically:\n",
      " C  X   -0.865696\n",
      "   Y    0.357700\n",
      "D  X   -2.272182\n",
      "   Y   -0.705476\n",
      "dtype: float64 \n",
      "\n",
      "DataFrame with MultiIndex automatically:\n",
      "               Score1    Score2\n",
      "GroupA One -0.754203  0.189730\n",
      "       Two  1.333398  0.335703\n",
      "GroupB One -0.253709  0.380528\n",
      "       Two -1.205576 -1.385786 \n",
      "\n"
     ]
    }
   ],
   "source": [
    "## TASK-13\n",
    "multi_s_auto = pd.Series(\n",
    "    np.random.randn(4),\n",
    "    index=pd.MultiIndex.from_arrays([[\"C\", \"C\", \"D\", \"D\"], [\"X\", \"Y\", \"X\", \"Y\"]]) # constructing multi index series automatically\n",
    ")\n",
    "print(\"MultiIndex Series constructed automatically:\\n\", multi_s_auto, \"\\n\")\n",
    "\n",
    "df_auto = pd.DataFrame(\n",
    "    np.random.randn(4, 2),\n",
    "    index=pd.MultiIndex.from_arrays([[\"GroupA\", \"GroupA\", \"GroupB\", \"GroupB\"],\n",
    "                                     [\"One\", \"Two\", \"One\", \"Two\"]]),\n",
    "    columns=[\"Score1\", \"Score2\"]\n",
    ")                                                                         # constructing multi index series automatically with column names\n",
    "print(\"DataFrame with MultiIndex automatically:\\n\", df_auto, \"\\n\")"
   ]
  },
  {
   "cell_type": "markdown",
   "id": "e5ed1f23-4b5b-4896-a5a2-a6a02268e37d",
   "metadata": {},
   "source": [
    "#### 8. Data Alignment and Reindexing"
   ]
  },
  {
   "cell_type": "code",
   "execution_count": 146,
   "id": "04b87137-ca10-4afd-ad68-c167123b0a2c",
   "metadata": {},
   "outputs": [
    {
     "name": "stdout",
     "output_type": "stream",
     "text": [
      "Original DataFrame:\n",
      "        History  Geography\n",
      "C one       78         74\n",
      "  two       88         86\n",
      "D one       92         90\n",
      "  two       81         83 \n",
      "\n"
     ]
    }
   ],
   "source": [
    "## TASK-14\n",
    "df = pd.DataFrame({\n",
    "    \"History\": [78, 88, 92, 81],\n",
    "    \"Geography\": [74, 86, 90, 83]\n",
    "}, index=pd.MultiIndex.from_arrays([[\"C\", \"C\", \"D\", \"D\"], [\"one\", \"two\", \"one\", \"two\"]])) # constructing multi index series automatically\n",
    "print(\"Original DataFrame:\\n\", df, \"\\n\")"
   ]
  },
  {
   "cell_type": "code",
   "execution_count": 148,
   "id": "016dc411-a834-44fe-9a0a-2ee3b3df2e7a",
   "metadata": {},
   "outputs": [
    {
     "name": "stdout",
     "output_type": "stream",
     "text": [
      "Mean by group:\n",
      "    History  Geography\n",
      "C     83.0       80.0\n",
      "D     86.5       86.5 \n",
      "\n"
     ]
    }
   ],
   "source": [
    "# Group by first level and compute mean\n",
    "mean_by_group = df.groupby(level=0).mean()\n",
    "print(\"Mean by group:\\n\", mean_by_group, \"\\n\")"
   ]
  },
  {
   "cell_type": "code",
   "execution_count": 150,
   "id": "e6c23a5c-9788-41d7-b833-c267bfda0e9c",
   "metadata": {},
   "outputs": [
    {
     "name": "stdout",
     "output_type": "stream",
     "text": [
      "Reindexed to align with original index:\n",
      "        History  Geography\n",
      "C one     83.0       80.0\n",
      "  two     83.0       80.0\n",
      "D one     86.5       86.5\n",
      "  two     86.5       86.5 \n",
      "\n"
     ]
    }
   ],
   "source": [
    "# Reindexing with MultiIndex\n",
    "aligned = mean_by_group.reindex(df.index, level=0)\n",
    "print(\"Reindexed to align with original index:\\n\", aligned, \"\\n\")"
   ]
  },
  {
   "cell_type": "markdown",
   "id": "54339b34-d470-4f7a-889c-eefefd27ad60",
   "metadata": {},
   "source": [
    "#### 9. Using xs() for Cross-Section"
   ]
  },
  {
   "cell_type": "code",
   "execution_count": 152,
   "id": "7951b68d-4426-43ed-bc21-142b82cff965",
   "metadata": {},
   "outputs": [
    {
     "name": "stdout",
     "output_type": "stream",
     "text": [
      "Cross-section for level 'two':\n",
      "    History  Geography\n",
      "C       88         86\n",
      "D       81         83 \n",
      "\n"
     ]
    }
   ],
   "source": [
    "## TASK-15\n",
    "print(\"Cross-section for level 'two':\\n\", df.xs(\"two\", level=1), \"\\n\") # Displaying the data present only in index 'two' (2nd hierarchical level)"
   ]
  },
  {
   "cell_type": "markdown",
   "id": "4d849295-e63d-4570-b4c7-8f901a4b49d2",
   "metadata": {},
   "source": [
    "#### 10. Sorting and Removing Unused Levels"
   ]
  },
  {
   "cell_type": "code",
   "execution_count": 154,
   "id": "82760bf4-26ff-41cb-ace9-fb58fd205869",
   "metadata": {},
   "outputs": [
    {
     "name": "stdout",
     "output_type": "stream",
     "text": [
      "Unsorted MultiIndex Series:\n",
      " C  X   -0.865696\n",
      "D  Y   -0.705476\n",
      "   X   -2.272182\n",
      "C  Y    0.357700\n",
      "dtype: float64 \n",
      "\n",
      "Sorted by index:\n",
      " C  X   -0.865696\n",
      "   Y    0.357700\n",
      "D  X   -2.272182\n",
      "   Y   -0.705476\n",
      "dtype: float64 \n",
      "\n"
     ]
    }
   ],
   "source": [
    "## TASK-16\n",
    "unsorted = multi_s_auto.sample(frac=1)   # shuffle randomly\n",
    "print(\"Unsorted MultiIndex Series:\\n\", unsorted, \"\\n\")\n",
    "print(\"Sorted by index:\\n\", unsorted.sort_index(), \"\\n\")"
   ]
  },
  {
   "cell_type": "code",
   "execution_count": 156,
   "id": "869fbe94-906e-4d35-a430-3ecba9100ffb",
   "metadata": {},
   "outputs": [
    {
     "ename": "AttributeError",
     "evalue": "'Index' object has no attribute 'levels'",
     "output_type": "error",
     "traceback": [
      "\u001b[1;31m---------------------------------------------------------------------------\u001b[0m",
      "\u001b[1;31mAttributeError\u001b[0m                            Traceback (most recent call last)",
      "Cell \u001b[1;32mIn[156], line 2\u001b[0m\n\u001b[0;32m      1\u001b[0m sub_df \u001b[38;5;241m=\u001b[39m df_auto[[\u001b[38;5;124m\"\u001b[39m\u001b[38;5;124mScore1\u001b[39m\u001b[38;5;124m\"\u001b[39m]]  \u001b[38;5;66;03m# remove one column\u001b[39;00m\n\u001b[1;32m----> 2\u001b[0m \u001b[38;5;28mprint\u001b[39m(\u001b[38;5;124m\"\u001b[39m\u001b[38;5;124mUnused levels before removing:\u001b[39m\u001b[38;5;130;01m\\n\u001b[39;00m\u001b[38;5;124m\"\u001b[39m, \u001b[43msub_df\u001b[49m\u001b[38;5;241;43m.\u001b[39;49m\u001b[43mcolumns\u001b[49m\u001b[38;5;241;43m.\u001b[39;49m\u001b[43mlevels\u001b[49m, \u001b[38;5;124m\"\u001b[39m\u001b[38;5;130;01m\\n\u001b[39;00m\u001b[38;5;124m\"\u001b[39m)\n\u001b[0;32m      3\u001b[0m \u001b[38;5;28mprint\u001b[39m(\u001b[38;5;124m\"\u001b[39m\u001b[38;5;124mAfter remove_unused_levels:\u001b[39m\u001b[38;5;130;01m\\n\u001b[39;00m\u001b[38;5;124m\"\u001b[39m, sub_df\u001b[38;5;241m.\u001b[39mcolumns\u001b[38;5;241m.\u001b[39mremove_unused_levels()\u001b[38;5;241m.\u001b[39mlevels, \u001b[38;5;124m\"\u001b[39m\u001b[38;5;130;01m\\n\u001b[39;00m\u001b[38;5;124m\"\u001b[39m)\n",
      "\u001b[1;31mAttributeError\u001b[0m: 'Index' object has no attribute 'levels'"
     ]
    }
   ],
   "source": [
    "sub_df = df_auto[[\"Score1\"]]  # remove one column\n",
    "print(\"Unused levels before removing:\\n\", sub_df.columns.levels, \"\\n\")\n",
    "print(\"After remove_unused_levels:\\n\", sub_df.columns.remove_unused_levels().levels, \"\\n\")"
   ]
  },
  {
   "cell_type": "markdown",
   "id": "25c1b715-e9cc-4f56-87dd-b7b2a0124804",
   "metadata": {},
   "source": [
    "#### Error:\n",
    "- sub_df.columns is still a normal Index, not MultiIndex.\n",
    "- Normal Index objects do NOT have a .levels attribute. So, we get the error 'Index' object has no attribute 'levels'"
   ]
  },
  {
   "cell_type": "code",
   "execution_count": 159,
   "id": "1393312d-123c-43b2-9193-1e7411412eb9",
   "metadata": {},
   "outputs": [
    {
     "name": "stdout",
     "output_type": "stream",
     "text": [
      "DataFrame with MultiIndex columns:\n",
      " Category       Score          \n",
      "Type          Score1    Score2\n",
      "GroupA One  0.706935 -1.217106\n",
      "       Two  0.582775  0.624524\n",
      "GroupB One -0.289921 -0.740174\n",
      "       Two -1.036852  0.937009 \n",
      "\n"
     ]
    }
   ],
   "source": [
    "## TASK-17 (FIXING THE ERROR)\n",
    "import numpy as np\n",
    "\n",
    "# Create MultiIndex for columns\n",
    "arrays = [[\"Score\", \"Score\"], [\"Score1\", \"Score2\"]]  # 2 levels\n",
    "multi_columns = pd.MultiIndex.from_arrays(arrays, names=[\"Category\", \"Type\"])\n",
    "\n",
    "# Create DataFrame with MultiIndex rows and columns\n",
    "df_auto = pd.DataFrame(\n",
    "    np.random.randn(4, 2),\n",
    "    index=pd.MultiIndex.from_arrays([[\"GroupA\", \"GroupA\", \"GroupB\", \"GroupB\"],\n",
    "                                     [\"One\", \"Two\", \"One\", \"Two\"]]),\n",
    "    columns=multi_columns\n",
    ")\n",
    "print(\"DataFrame with MultiIndex columns:\\n\", df_auto, \"\\n\")"
   ]
  },
  {
   "cell_type": "code",
   "execution_count": 161,
   "id": "eec5e9d2-2c21-469e-8fc4-3d850928ceed",
   "metadata": {},
   "outputs": [
    {
     "name": "stdout",
     "output_type": "stream",
     "text": [
      "Unused levels before removing:\n",
      " [['Score'], ['Score1', 'Score2']] \n",
      "\n",
      "After remove_unused_levels:\n",
      " [['Score'], ['Score1']] \n",
      "\n"
     ]
    }
   ],
   "source": [
    "# Select only one column (tuple notation)\n",
    "sub_df = df_auto[[(\"Score\", \"Score1\")]]  \n",
    "\n",
    "# Now sub_df.columns is a MultiIndex\n",
    "print(\"Unused levels before removing:\\n\", sub_df.columns.levels, \"\\n\") # remove one column\n",
    "print(\"After remove_unused_levels:\\n\", sub_df.columns.remove_unused_levels().levels, \"\\n\")"
   ]
  },
  {
   "cell_type": "code",
   "execution_count": null,
   "id": "b3393d50-6a2d-44ca-ab2d-8401bc8d0384",
   "metadata": {},
   "outputs": [],
   "source": []
  }
 ],
 "metadata": {
  "kernelspec": {
   "display_name": "Python [conda env:base] *",
   "language": "python",
   "name": "conda-base-py"
  },
  "language_info": {
   "codemirror_mode": {
    "name": "ipython",
    "version": 3
   },
   "file_extension": ".py",
   "mimetype": "text/x-python",
   "name": "python",
   "nbconvert_exporter": "python",
   "pygments_lexer": "ipython3",
   "version": "3.13.5"
  }
 },
 "nbformat": 4,
 "nbformat_minor": 5
}
