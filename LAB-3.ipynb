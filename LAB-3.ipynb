{
 "cells": [
  {
   "cell_type": "markdown",
   "id": "f52e2a37-9343-48af-a0cd-47f4b447072d",
   "metadata": {},
   "source": [
    "## Traveling Agency using List Operations"
   ]
  },
  {
   "cell_type": "code",
   "execution_count": 2,
   "id": "c5ce3400-7534-4fb9-a65d-0275b6d5081a",
   "metadata": {},
   "outputs": [
    {
     "name": "stdin",
     "output_type": "stream",
     "text": [
      "Enter the number of favourite places:  5\n",
      "Enter your favourite place 1:  Mysuru Palace\n",
      "Enter your favourite place 2:  Sand Museum\n",
      "Enter your favourite place 3:  Railway Museum\n",
      "Enter your favourite place 4:  Devaraja Market\n",
      "Enter your favourite place 5:  Karanji Lake\n"
     ]
    },
    {
     "name": "stdout",
     "output_type": "stream",
     "text": [
      "['Mysuru Palace', 'Sand Museum', 'Railway Museum', 'Devaraja Market', 'Karanji Lake']\n"
     ]
    }
   ],
   "source": [
    "# Get Favourite Places from user\n",
    "places = []\n",
    "num = int(input(\"Enter the number of favourite places: \"))\n",
    "\n",
    "for i in range(num):\n",
    "    place = input(f'Enter your favourite place {i+1}: ')\n",
    "    places.append(place)\n",
    "\n",
    "print(places)"
   ]
  },
  {
   "cell_type": "code",
   "execution_count": 7,
   "id": "f089f7aa-a6a7-44ad-9469-e14c7933df11",
   "metadata": {},
   "outputs": [
    {
     "name": "stdout",
     "output_type": "stream",
     "text": [
      "Your Favourite Places:\n",
      "Mysuru Palace\n",
      "Sand Museum\n",
      "Railway Museum\n",
      "Devaraja Market\n",
      "Karanji Lake\n"
     ]
    }
   ],
   "source": [
    "# Displaying Favourite places\n",
    "print(\"Your Favourite Places:\")\n",
    "for i in range(len(places)):\n",
    "    print(places[i])"
   ]
  },
  {
   "cell_type": "code",
   "execution_count": 9,
   "id": "41ef818b-3a72-4dc8-ad02-dc906dff6cce",
   "metadata": {},
   "outputs": [
    {
     "name": "stdin",
     "output_type": "stream",
     "text": [
      "Enter new place:  Sri Chamundeshwari Temple\n"
     ]
    }
   ],
   "source": [
    "# Adding new places\n",
    "place = input(\"Enter new place: \")\n",
    "places.append(place)"
   ]
  },
  {
   "cell_type": "code",
   "execution_count": 11,
   "id": "ddf664ab-0820-4f09-9803-9a770515fb9a",
   "metadata": {},
   "outputs": [
    {
     "name": "stdin",
     "output_type": "stream",
     "text": [
      "Enter your most favourite place:  Mysuru Zoo\n"
     ]
    }
   ],
   "source": [
    "# Insert your favourite place at particular position\n",
    "place = input(\"Enter your most favourite place: \")\n",
    "places.insert(0,place)"
   ]
  },
  {
   "cell_type": "code",
   "execution_count": 13,
   "id": "e62601bb-4629-4fcb-87f9-a2e3f6c14791",
   "metadata": {},
   "outputs": [
    {
     "name": "stdout",
     "output_type": "stream",
     "text": [
      "Your Favourite Places:\n",
      "Mysuru Zoo\n",
      "Mysuru Palace\n",
      "Sand Museum\n",
      "Railway Museum\n",
      "Devaraja Market\n",
      "Karanji Lake\n",
      "Sri Chamundeshwari Temple\n"
     ]
    }
   ],
   "source": [
    "# Displaying Favourite places\n",
    "print(\"Your Favourite Places:\")\n",
    "for i in range(len(places)):\n",
    "    print(places[i])"
   ]
  },
  {
   "cell_type": "code",
   "execution_count": 15,
   "id": "e1787f3c-cb89-4fb8-a427-7a3a29b61a75",
   "metadata": {},
   "outputs": [],
   "source": [
    "# Remove your recently visited place\n",
    "places.remove(\"Railway Museum\")"
   ]
  },
  {
   "cell_type": "code",
   "execution_count": 17,
   "id": "f1734182-400f-40d7-bf51-bb83a2ff1f81",
   "metadata": {},
   "outputs": [],
   "source": [
    "# Add multiple favourite places at a time\n",
    "places.extend([\"Karanji Park\",\"Sandal Market\"])"
   ]
  },
  {
   "cell_type": "code",
   "execution_count": 19,
   "id": "a5d85a0d-a104-482d-a7e7-f059ea390e13",
   "metadata": {},
   "outputs": [
    {
     "name": "stdout",
     "output_type": "stream",
     "text": [
      "Your Favourite Places:\n",
      "Mysuru Zoo\n",
      "Mysuru Palace\n",
      "Sand Museum\n",
      "Devaraja Market\n",
      "Karanji Lake\n",
      "Sri Chamundeshwari Temple\n",
      "Karanji Park\n",
      "Sandal Market\n"
     ]
    }
   ],
   "source": [
    "# Displaying Favourite places\n",
    "print(\"Your Favourite Places:\")\n",
    "for i in range(len(places)):\n",
    "    print(places[i])"
   ]
  },
  {
   "cell_type": "code",
   "execution_count": 21,
   "id": "3d585f5e-5140-44c6-a9ad-1fbf8f612ac3",
   "metadata": {},
   "outputs": [],
   "source": [
    "# Delete Recently Visited place\n",
    "del places[7]"
   ]
  },
  {
   "cell_type": "code",
   "execution_count": 23,
   "id": "5f7ab4f5-5230-4d70-9c93-2f423d3af274",
   "metadata": {},
   "outputs": [
    {
     "data": {
      "text/plain": [
       "'Karanji Park'"
      ]
     },
     "execution_count": 23,
     "metadata": {},
     "output_type": "execute_result"
    }
   ],
   "source": [
    "# Remove your last favourite place\n",
    "places.pop()"
   ]
  },
  {
   "cell_type": "code",
   "execution_count": 25,
   "id": "6e722c2f-7cbe-4909-9ba6-bf621686614e",
   "metadata": {},
   "outputs": [
    {
     "name": "stdout",
     "output_type": "stream",
     "text": [
      "Your Favourite Places:\n",
      "Mysuru Zoo\n",
      "Mysuru Palace\n",
      "Sand Museum\n",
      "Devaraja Market\n",
      "Karanji Lake\n",
      "Sri Chamundeshwari Temple\n"
     ]
    }
   ],
   "source": [
    "# Displaying Favourite places\n",
    "print(\"Your Favourite Places:\")\n",
    "for i in range(len(places)):\n",
    "    print(places[i])"
   ]
  },
  {
   "cell_type": "code",
   "execution_count": 29,
   "id": "d1d2d0d6-7283-4327-8bcd-1c67c62957d6",
   "metadata": {},
   "outputs": [
    {
     "name": "stdout",
     "output_type": "stream",
     "text": [
      "['Sri Chamundeshwari Temple', 'Karanji Lake', 'Devaraja Market', 'Sand Museum', 'Mysuru Palace', 'Mysuru Zoo']\n"
     ]
    }
   ],
   "source": [
    "# Reversing List\n",
    "places.reverse()\n",
    "print(places)"
   ]
  },
  {
   "cell_type": "code",
   "execution_count": 31,
   "id": "c6cf4dc8-4f67-409f-91b9-1ab73bf44d76",
   "metadata": {},
   "outputs": [
    {
     "name": "stdout",
     "output_type": "stream",
     "text": [
      "['Devaraja Market', 'Karanji Lake', 'Mysuru Palace', 'Mysuru Zoo', 'Sand Museum', 'Sri Chamundeshwari Temple']\n"
     ]
    }
   ],
   "source": [
    "# Display list in Sorted order\n",
    "places.sort()\n",
    "print(places)"
   ]
  },
  {
   "cell_type": "code",
   "execution_count": 35,
   "id": "8d8b1fbe-aad8-4830-804d-54b36d62963d",
   "metadata": {},
   "outputs": [
    {
     "data": {
      "text/plain": [
       "5"
      ]
     },
     "execution_count": 35,
     "metadata": {},
     "output_type": "execute_result"
    }
   ],
   "source": [
    "# Get the index of your favourite place\n",
    "places.index(\"Sri Chamundeshwari Temple\")"
   ]
  },
  {
   "cell_type": "code",
   "execution_count": 37,
   "id": "1743823e-9f8f-4b2c-bb20-c93379a75b6a",
   "metadata": {},
   "outputs": [
    {
     "data": {
      "text/plain": [
       "'Devaraja Market'"
      ]
     },
     "execution_count": 37,
     "metadata": {},
     "output_type": "execute_result"
    }
   ],
   "source": [
    "# Remove your last favourite place\n",
    "places.pop(0)"
   ]
  },
  {
   "cell_type": "code",
   "execution_count": 39,
   "id": "db078448-84d8-4c52-920c-17170efb08b7",
   "metadata": {},
   "outputs": [
    {
     "name": "stdout",
     "output_type": "stream",
     "text": [
      "Your Favourite Places:\n",
      "Karanji Lake\n",
      "Mysuru Palace\n",
      "Mysuru Zoo\n",
      "Sand Museum\n",
      "Sri Chamundeshwari Temple\n"
     ]
    }
   ],
   "source": [
    "# Displaying Favourite places\n",
    "print(\"Your Favourite Places:\")\n",
    "for i in range(len(places)):\n",
    "    print(places[i])"
   ]
  },
  {
   "cell_type": "code",
   "execution_count": 41,
   "id": "e1bf8f7d-1f7d-4a3a-991d-ca4e54c2ae4c",
   "metadata": {},
   "outputs": [],
   "source": [
    "# Clear your favourite places\n",
    "places.clear()"
   ]
  },
  {
   "cell_type": "code",
   "execution_count": 43,
   "id": "bbb0fbc5-d1f0-4436-ada3-cd1660360c3d",
   "metadata": {},
   "outputs": [
    {
     "name": "stdout",
     "output_type": "stream",
     "text": [
      "[]\n"
     ]
    }
   ],
   "source": [
    "print(places)"
   ]
  },
  {
   "cell_type": "markdown",
   "id": "73e3555f-d5da-4bf2-8bac-1cda82e29294",
   "metadata": {},
   "source": [
    "## Collaborative Filtering "
   ]
  },
  {
   "cell_type": "code",
   "execution_count": 48,
   "id": "a934dcfd-afe6-4ba7-99c4-2547cad75850",
   "metadata": {},
   "outputs": [],
   "source": [
    "# User data in dictionary form\n",
    "data = {\n",
    "    'UserA': ['Mysuru Palace', 'Sand Museum', 'Railway Museum', 'Devaraja Market', 'Karanji Lake'],\n",
    "    'UserB': ['Mysuru Palace', 'Sri Chamundeshwari Temple', 'Karanji Lake', 'Mysuru Zoo'],\n",
    "    'UserC': ['Sand Museum', 'Karanji Park', 'Railway Museum', 'Brindavan Gardens'],\n",
    "    'UserD': ['Mysuru Palace', 'Sand Museum', 'Sandal Market', 'Devaraja Market'],\n",
    "}"
   ]
  },
  {
   "cell_type": "code",
   "execution_count": 50,
   "id": "b8b11905-8acc-42ea-bdab-41aa7450ef0e",
   "metadata": {},
   "outputs": [],
   "source": [
    "# Get current user input \n",
    "\n",
    "current_user = 'UserA'\n",
    "user_places = data[current_user]"
   ]
  },
  {
   "cell_type": "code",
   "execution_count": 52,
   "id": "99a35eaa-3db9-4599-80f1-411742b5f20d",
   "metadata": {},
   "outputs": [],
   "source": [
    "# Find similar users – Based on common places\n",
    "\n",
    "similar_users = {}\n",
    "for user, places in data.items():\n",
    "    if user != current_user:\n",
    "        common = set(places) & set(user_places)\n",
    "        similarity_score = len(common)\n",
    "        if similarity_score > 0:\n",
    "            similar_users[user] = similarity_score"
   ]
  },
  {
   "cell_type": "code",
   "execution_count": 56,
   "id": "4f5a39e9-9afc-4f61-8dd2-0da46c956a91",
   "metadata": {},
   "outputs": [],
   "source": [
    "# Get recommendations – Unique places others liked\n",
    "\n",
    "from collections import Counter\n",
    "\n",
    "recommendations = []\n",
    "for user in similar_users:\n",
    "    for place in data[user]:\n",
    "        if place not in user_places:\n",
    "            recommendations.append(place)\n",
    "\n",
    "recommend_counts = Counter(recommendations)\n",
    "sorted_recommendations = [place for place, count in recommend_counts.most_common()]"
   ]
  },
  {
   "cell_type": "code",
   "execution_count": 58,
   "id": "7017633c-90f3-4d29-a6c9-a64b2a995893",
   "metadata": {},
   "outputs": [
    {
     "name": "stdout",
     "output_type": "stream",
     "text": [
      "📌 Recommended Places Based on Similar Users:\n",
      "- Sri Chamundeshwari Temple\n",
      "- Mysuru Zoo\n",
      "- Karanji Park\n",
      "- Brindavan Gardens\n",
      "- Sandal Market\n"
     ]
    }
   ],
   "source": [
    "# Display recommendations\n",
    "\n",
    "print(\"📌 Recommended Places Based on Similar Users:\")\n",
    "for place in sorted_recommendations:\n",
    "    print(\"-\", place)"
   ]
  },
  {
   "cell_type": "code",
   "execution_count": null,
   "id": "60d7de17-ac7c-4f06-a148-cb6580229fb4",
   "metadata": {},
   "outputs": [],
   "source": []
  }
 ],
 "metadata": {
  "kernelspec": {
   "display_name": "Python 3 (ipykernel)",
   "language": "python",
   "name": "python3"
  },
  "language_info": {
   "codemirror_mode": {
    "name": "ipython",
    "version": 3
   },
   "file_extension": ".py",
   "mimetype": "text/x-python",
   "name": "python",
   "nbconvert_exporter": "python",
   "pygments_lexer": "ipython3",
   "version": "3.12.7"
  }
 },
 "nbformat": 4,
 "nbformat_minor": 5
}
