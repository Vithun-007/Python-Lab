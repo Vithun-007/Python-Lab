{
  "nbformat": 4,
  "nbformat_minor": 0,
  "metadata": {
    "colab": {
      "provenance": [],
      "include_colab_link": true
    },
    "kernelspec": {
      "name": "python3",
      "display_name": "Python 3"
    },
    "language_info": {
      "name": "python"
    }
  },
  "cells": [
    {
      "cell_type": "markdown",
      "metadata": {
        "id": "view-in-github",
        "colab_type": "text"
      },
      "source": [
        "<a href=\"https://colab.research.google.com/github/Vithun-007/Python-Lab/blob/main/LAB%20ACTIVITY%207.ipynb\" target=\"_parent\"><img src=\"https://colab.research.google.com/assets/colab-badge.svg\" alt=\"Open In Colab\"/></a>"
      ]
    },
    {
      "cell_type": "markdown",
      "source": [
        "LAB ACTIVITY 7\n",
        "VITHUN G S\n",
        "22MID0099\n",
        "\n",
        "Functions\n",
        "1. Passing Arguments - Positonal Arguments and keyword Arguments"
      ],
      "metadata": {
        "id": "99tMN8ygQ7Af"
      }
    },
    {
      "cell_type": "code",
      "source": [
        "def describe_pet(animal_type, pet_name):\n",
        "    \"\"\"Display information about a pet\"\"\"\n",
        "    print(f\"\\n I have a pet {animal_type}.\")\n",
        "    print(f\"My {animal_type}'s name is {pet_name.title()}.\")\n",
        "\n",
        "describe_pet(\"Hamster\",\"Harry\")  # function call"
      ],
      "metadata": {
        "colab": {
          "base_uri": "https://localhost:8080/"
        },
        "id": "X3XUAh5cRBOC",
        "outputId": "61b6f64f-8d9e-4126-f741-9c985060c563"
      },
      "execution_count": null,
      "outputs": [
        {
          "output_type": "stream",
          "name": "stdout",
          "text": [
            "\n",
            " I have a pet Hamster.\n",
            "My Hamster's name is Harry.\n"
          ]
        }
      ]
    },
    {
      "cell_type": "markdown",
      "source": [
        "2.Multiple Function Call"
      ],
      "metadata": {
        "id": "tNZRJf-mRWsv"
      }
    },
    {
      "cell_type": "code",
      "source": [
        "def describe_pet(animal_type, pet_name):\n",
        "    \"\"\"Display information about a pet\"\"\"\n",
        "    print(f\"\\n I have a pet {animal_type}.\")\n",
        "    print(f\"My {animal_type}'s name is {pet_name.title()}.\")\n",
        "\n",
        "describe_pet(\"Hamster\",\"Harry\")  # function call\n",
        "describe_pet(\"Dog\",\"Bruno\")      # Another function call"
      ],
      "metadata": {
        "colab": {
          "base_uri": "https://localhost:8080/"
        },
        "id": "f4jsRo8LRXo3",
        "outputId": "5d9aa08d-d8af-4084-ae30-4f1484e9414d"
      },
      "execution_count": null,
      "outputs": [
        {
          "output_type": "stream",
          "name": "stdout",
          "text": [
            "\n",
            " I have a pet Hamster.\n",
            "My Hamster's name is Harry.\n",
            "\n",
            " I have a pet Dog.\n",
            "My Dog's name is Bruno.\n"
          ]
        }
      ]
    },
    {
      "cell_type": "markdown",
      "source": [
        "3. Order matters in positional Arguments"
      ],
      "metadata": {
        "id": "w78pzbIiRc78"
      }
    },
    {
      "cell_type": "code",
      "source": [
        "def describe_pet(animal_type, pet_name):\n",
        "    \"\"\"Display information about a pet\"\"\"\n",
        "    print(f\"\\n I have a pet {animal_type}.\")\n",
        "    print(f\"My {animal_type}'s name is {pet_name.title()}.\")\n",
        "\n",
        "describe_pet(\"Harry\",\"Hamster\")  # function call"
      ],
      "metadata": {
        "colab": {
          "base_uri": "https://localhost:8080/"
        },
        "id": "AYnT1B4QRfa_",
        "outputId": "60451782-2781-4de9-ef79-a1746a3571be"
      },
      "execution_count": null,
      "outputs": [
        {
          "output_type": "stream",
          "name": "stdout",
          "text": [
            "\n",
            " I have a pet Harry.\n",
            "My Harry's name is Hamster.\n"
          ]
        }
      ]
    },
    {
      "cell_type": "markdown",
      "source": [
        "4. Keyword Arguments"
      ],
      "metadata": {
        "id": "pOPp6V8DRjMe"
      }
    },
    {
      "cell_type": "code",
      "source": [
        "def describe_pet(animal_type, pet_name):\n",
        "    \"\"\"Display information about a pet\"\"\"\n",
        "    print(f\"\\n I have a pet {animal_type}.\")\n",
        "    print(f\"My {animal_type}'s name is {pet_name.title()}.\")\n",
        "\n",
        "describe_pet(animal_type = \"Hamster\",pet_name = \"Harry\") # function call"
      ],
      "metadata": {
        "colab": {
          "base_uri": "https://localhost:8080/"
        },
        "id": "GwHnTkj0RlVd",
        "outputId": "6ffdcab2-b6f4-4d91-d2c7-12b311ac7fd9"
      },
      "execution_count": null,
      "outputs": [
        {
          "output_type": "stream",
          "name": "stdout",
          "text": [
            "\n",
            " I have a pet Hamster.\n",
            "My Hamster's name is Harry.\n"
          ]
        }
      ]
    },
    {
      "cell_type": "markdown",
      "source": [
        "5. Default Values"
      ],
      "metadata": {
        "id": "VDkxi_UvRomq"
      }
    },
    {
      "cell_type": "code",
      "source": [
        "def describe_pet(pet_name, animal_type = \"dog\"):\n",
        "    \"\"\"Display information about a pet\"\"\"\n",
        "    print(f\"\\n I have a pet {animal_type}.\")\n",
        "    print(f\"My {animal_type}'s name is {pet_name.title()}.\")\n",
        "\n",
        "describe_pet(pet_name = \"Bruno\") # function call"
      ],
      "metadata": {
        "colab": {
          "base_uri": "https://localhost:8080/"
        },
        "id": "T8e_tOqdRrF9",
        "outputId": "2a90e592-3af3-49ea-a859-545fb45d26e5"
      },
      "execution_count": null,
      "outputs": [
        {
          "output_type": "stream",
          "name": "stdout",
          "text": [
            "\n",
            " I have a pet dog.\n",
            "My dog's name is Bruno.\n"
          ]
        }
      ]
    },
    {
      "cell_type": "markdown",
      "source": [
        "6. Hence many ways to call a function"
      ],
      "metadata": {
        "id": "3MISfB6rRvmf"
      }
    },
    {
      "cell_type": "code",
      "source": [
        "describe_pet(\"Bruno\") # Positional argument and default values\n",
        "describe_pet(pet_name = \"Bruno\") # Keyword argument and default values\n",
        "describe_pet(animal_type = \"Hamster\",pet_name = \"Harry\") # Keyword argument (doesn't matter on order)\n",
        "describe_pet(\"Harry\",\"Hamster\") # Positional Argument\n",
        "describe_pet(\"Hamster\",animal_type=\"Harry\") # Positional argument and Keyword argument\n",
        "describe_pet(pet_name = \"Harry\",animal_type = \"Hamster\") # Keyword argument"
      ],
      "metadata": {
        "colab": {
          "base_uri": "https://localhost:8080/"
        },
        "id": "jhGNz_TVRx0Z",
        "outputId": "d1cef129-19fa-459c-e5d5-69db28155915"
      },
      "execution_count": null,
      "outputs": [
        {
          "output_type": "stream",
          "name": "stdout",
          "text": [
            "\n",
            " I have a pet dog.\n",
            "My dog's name is Bruno.\n",
            "\n",
            " I have a pet dog.\n",
            "My dog's name is Bruno.\n",
            "\n",
            " I have a pet Hamster.\n",
            "My Hamster's name is Harry.\n",
            "\n",
            " I have a pet Hamster.\n",
            "My Hamster's name is Harry.\n",
            "\n",
            " I have a pet Harry.\n",
            "My Harry's name is Hamster.\n",
            "\n",
            " I have a pet Hamster.\n",
            "My Hamster's name is Harry.\n"
          ]
        }
      ]
    },
    {
      "cell_type": "markdown",
      "source": [
        "7. Returning a simple value"
      ],
      "metadata": {
        "id": "yf9qRsJER383"
      }
    },
    {
      "cell_type": "code",
      "source": [
        "def get_formatted_name(first_name, last_name):\n",
        "    \"\"\"\"Return a full name, neatly formatted\"\"\"\n",
        "    full_name = f\"{first_name} {last_name}\"\n",
        "    return full_name.title()\n",
        "\n",
        "musician = get_formatted_name('jimi','hendrix')\n",
        "print(musician)"
      ],
      "metadata": {
        "colab": {
          "base_uri": "https://localhost:8080/"
        },
        "id": "qQdNQ9AjR6a6",
        "outputId": "ac773bc8-7acf-41b4-912d-e363002c9629"
      },
      "execution_count": null,
      "outputs": [
        {
          "output_type": "stream",
          "name": "stdout",
          "text": [
            "Jimi Hendrix\n"
          ]
        }
      ]
    },
    {
      "cell_type": "markdown",
      "source": [
        "8. Making an argument optional"
      ],
      "metadata": {
        "id": "iOlVNpDySADz"
      }
    },
    {
      "cell_type": "code",
      "source": [
        "# Function to return a full name, where the middle name is optional\n",
        "def get_formatted_name(first_name, last_name, middle_name=''):\n",
        "    \"\"\"Return a full name, neatly formatted. Middle name is optional.\"\"\"\n",
        "    if middle_name:\n",
        "        # If middle name is provided, include it in the full name\n",
        "        full_name = f\"{first_name} {middle_name} {last_name}\"\n",
        "    else:\n",
        "        # If no middle name, just use first and last name\n",
        "        full_name = f\"{first_name} {last_name}\"\n",
        "\n",
        "    return full_name.title()  # Return the full name in title case (e.g., Jimi Hendrix)\n",
        "\n",
        "# Calling the function with only first and last name\n",
        "musician = get_formatted_name('jimi', 'hendrix')\n",
        "print(musician)\n",
        "\n",
        "# Calling the function with a middle name\n",
        "musician = get_formatted_name('john', 'doe', 'paul')\n",
        "print(musician)"
      ],
      "metadata": {
        "colab": {
          "base_uri": "https://localhost:8080/"
        },
        "id": "vbIalXWQSAvl",
        "outputId": "dd0be2cc-1db7-41b0-a1d9-0ff42946b0cd"
      },
      "execution_count": null,
      "outputs": [
        {
          "output_type": "stream",
          "name": "stdout",
          "text": [
            "Jimi Hendrix\n",
            "John Paul Doe\n"
          ]
        }
      ]
    },
    {
      "cell_type": "markdown",
      "source": [
        "9. Returning a dictionary"
      ],
      "metadata": {
        "id": "Ui27NIgfSEhy"
      }
    },
    {
      "cell_type": "code",
      "source": [
        "def get_formatted_name(first_name, last_name):\n",
        "    \"\"\"Return a dictionary with full name details\"\"\"\n",
        "    return {\n",
        "        'first_name': first_name.title(),\n",
        "        'last_name': last_name.title()\n",
        "    }\n",
        "\n",
        "musician = get_formatted_name('jimi','hendrix')\n",
        "print(musician)"
      ],
      "metadata": {
        "colab": {
          "base_uri": "https://localhost:8080/"
        },
        "id": "2zzvILpWSGvd",
        "outputId": "26480665-8bbf-42f9-92f8-30f695ad700c"
      },
      "execution_count": null,
      "outputs": [
        {
          "output_type": "stream",
          "name": "stdout",
          "text": [
            "{'first_name': 'Jimi', 'last_name': 'Hendrix'}\n"
          ]
        }
      ]
    },
    {
      "cell_type": "markdown",
      "source": [
        "10. Passing a list"
      ],
      "metadata": {
        "id": "MqeP1YItSL0e"
      }
    },
    {
      "cell_type": "code",
      "source": [
        "def greet_user(names):\n",
        "    # printing a list of elements\n",
        "    for name in names:\n",
        "        msg = f\"Hello, {name}\"\n",
        "        print(msg)\n",
        "\n",
        "names = ['Gokula','Kamesh','Arul','Keerthana']\n",
        "greet_user(names)"
      ],
      "metadata": {
        "colab": {
          "base_uri": "https://localhost:8080/"
        },
        "id": "vGBQndUQSMw3",
        "outputId": "fab0c4f9-fe8c-4c52-d1a2-d49f509040a7"
      },
      "execution_count": null,
      "outputs": [
        {
          "output_type": "stream",
          "name": "stdout",
          "text": [
            "Hello, Gokula\n",
            "Hello, Kamesh\n",
            "Hello, Arul\n",
            "Hello, Keerthana\n"
          ]
        }
      ]
    },
    {
      "cell_type": "markdown",
      "source": [
        "11. Modifying a list"
      ],
      "metadata": {
        "id": "p87F0MMgSXew"
      }
    },
    {
      "cell_type": "code",
      "source": [
        "def greet_and_store(names, greeted_names):\n",
        "    # Greet each user and move them to greeted_names list\n",
        "    while names:\n",
        "        name = names.pop(0)  # Remove from original list (from front)\n",
        "        print(f\"Hello, {name}\")\n",
        "        greeted_names.append(name)  # Add to greeted list\n",
        "\n",
        "# Original list of names\n",
        "names = ['Gokula', 'Kamesh', 'Arul', 'Keerthana']\n",
        "greeted_names = []\n",
        "\n",
        "# Call the function\n",
        "greet_and_store(names, greeted_names)\n",
        "\n",
        "# Display greeted users\n",
        "print(\"\\nGreeted users:\")\n",
        "print(greeted_names)"
      ],
      "metadata": {
        "colab": {
          "base_uri": "https://localhost:8080/"
        },
        "id": "3hXjMx27SYEI",
        "outputId": "e03d06ff-423c-4d80-8b25-e336936f67eb"
      },
      "execution_count": null,
      "outputs": [
        {
          "output_type": "stream",
          "name": "stdout",
          "text": [
            "Hello, Gokula\n",
            "Hello, Kamesh\n",
            "Hello, Arul\n",
            "Hello, Keerthana\n",
            "\n",
            "Greeted users:\n",
            "['Gokula', 'Kamesh', 'Arul', 'Keerthana']\n"
          ]
        }
      ]
    },
    {
      "cell_type": "code",
      "source": [
        "print(names) # modified original list"
      ],
      "metadata": {
        "colab": {
          "base_uri": "https://localhost:8080/"
        },
        "id": "m3Ylxg8HSiBd",
        "outputId": "78d323bb-f3d6-4596-8f64-997ded195274"
      },
      "execution_count": null,
      "outputs": [
        {
          "output_type": "stream",
          "name": "stdout",
          "text": [
            "[]\n"
          ]
        }
      ]
    },
    {
      "cell_type": "markdown",
      "source": [
        "12. Protecting a list from updates"
      ],
      "metadata": {
        "id": "g14ko1X-SnhA"
      }
    },
    {
      "cell_type": "code",
      "source": [
        "def greet_and_store(names, greeted_names):\n",
        "    # Greet each user and move them to greeted_names list\n",
        "    while names:\n",
        "        name = names.pop(0)  # This modifies the copied list only\n",
        "        print(f\"Hello, {name}\")\n",
        "        greeted_names.append(name)\n",
        "\n",
        "# Original list of names\n",
        "names = ['Gokula', 'Kamesh', 'Arul', 'Keerthana']\n",
        "greeted_names = []\n",
        "\n",
        "# Pass a copy of the list using names[:]\n",
        "greet_and_store(names[:], greeted_names)\n",
        "\n",
        "# Show the original and modified lists\n",
        "print(\"\\nOriginal list:\")\n",
        "print(names)  # Unchanged\n",
        "\n",
        "print(\"\\nGreeted users:\")\n",
        "print(greeted_names)  # Only contains greeted names"
      ],
      "metadata": {
        "colab": {
          "base_uri": "https://localhost:8080/"
        },
        "id": "Q_EU6p5OSoP3",
        "outputId": "b5776cfa-7b66-45ce-8cdf-649214b84ca6"
      },
      "execution_count": null,
      "outputs": [
        {
          "output_type": "stream",
          "name": "stdout",
          "text": [
            "Hello, Gokula\n",
            "Hello, Kamesh\n",
            "Hello, Arul\n",
            "Hello, Keerthana\n",
            "\n",
            "Original list:\n",
            "['Gokula', 'Kamesh', 'Arul', 'Keerthana']\n",
            "\n",
            "Greeted users:\n",
            "['Gokula', 'Kamesh', 'Arul', 'Keerthana']\n"
          ]
        }
      ]
    },
    {
      "cell_type": "markdown",
      "source": [
        "13. Passing an Arbitrary number of arguments"
      ],
      "metadata": {
        "id": "fGBkWUrzSz6g"
      }
    },
    {
      "cell_type": "code",
      "source": [
        "def make_pizza(*toppings):\n",
        "    # printing n number of arguments\n",
        "    print(toppings)\n",
        "\n",
        "make_pizza(\"pepperoni\")\n",
        "make_pizza(\"pepperoni\",\"mushrooms\", \"green pepper\",\"extra cheese\")"
      ],
      "metadata": {
        "colab": {
          "base_uri": "https://localhost:8080/"
        },
        "id": "2ekF0uIAS0uW",
        "outputId": "3c10b9d1-1b67-4ccd-c13a-6a3ad224c51a"
      },
      "execution_count": null,
      "outputs": [
        {
          "output_type": "stream",
          "name": "stdout",
          "text": [
            "('pepperoni',)\n",
            "('pepperoni', 'mushrooms', 'green pepper', 'extra cheese')\n"
          ]
        }
      ]
    },
    {
      "cell_type": "markdown",
      "source": [
        "14. Mixing Positional and Arbitrary Arguments"
      ],
      "metadata": {
        "id": "EfMQButSS7Bp"
      }
    },
    {
      "cell_type": "code",
      "source": [
        "def make_pizza(size, *toppings):\n",
        "    # size is a postional and toppings is a keyword argument\n",
        "    print(f\"\\n Making a {size}-inch pizza with the following toppings\")\n",
        "    for topping in toppings:\n",
        "        print(f\"- {topping}\")\n",
        "\n",
        "make_pizza(16,\"pepperoni\")\n",
        "make_pizza(22,\"pepperoni\",\"mushrooms\", \"green pepper\",\"extra cheese\")"
      ],
      "metadata": {
        "colab": {
          "base_uri": "https://localhost:8080/"
        },
        "id": "vRp-si9vS7zO",
        "outputId": "0b6c5299-5680-40db-b75e-e27537f54553"
      },
      "execution_count": null,
      "outputs": [
        {
          "output_type": "stream",
          "name": "stdout",
          "text": [
            "\n",
            " Making a 16-inch pizza with the following toppings\n",
            "- pepperoni\n",
            "\n",
            " Making a 22-inch pizza with the following toppings\n",
            "- pepperoni\n",
            "- mushrooms\n",
            "- green pepper\n",
            "- extra cheese\n"
          ]
        }
      ]
    },
    {
      "cell_type": "markdown",
      "source": [
        "15. Using Arbitrary Keyword Arguments"
      ],
      "metadata": {
        "id": "ZIUf2ZWpTBRe"
      }
    },
    {
      "cell_type": "code",
      "source": [
        "def build_profile(first, last, **user_info):\n",
        "    # positional and keyword arguments returning a dict\n",
        "    user_info['first_name'] = first\n",
        "    user_info['last_name'] = last\n",
        "    return user_info\n",
        "\n",
        "user_profile = build_profile('albert','einstein',location='princeton',field='physics')\n",
        "print(user_profile)"
      ],
      "metadata": {
        "colab": {
          "base_uri": "https://localhost:8080/"
        },
        "id": "gireZrdoTCCa",
        "outputId": "5089ad10-0aee-4f36-c8d3-0ab676faed5d"
      },
      "execution_count": null,
      "outputs": [
        {
          "output_type": "stream",
          "name": "stdout",
          "text": [
            "{'location': 'princeton', 'field': 'physics', 'first_name': 'albert', 'last_name': 'einstein'}\n"
          ]
        }
      ]
    },
    {
      "cell_type": "markdown",
      "source": [
        "16. Storing your function in modules"
      ],
      "metadata": {
        "id": "AEZAu4vMTHL2"
      }
    },
    {
      "cell_type": "code",
      "source": [
        "!pip install nbimporter"
      ],
      "metadata": {
        "colab": {
          "base_uri": "https://localhost:8080/"
        },
        "id": "CMYLDIRBTH-m",
        "outputId": "680ec40b-8a2e-4b45-8875-300a7f9c7af5"
      },
      "execution_count": null,
      "outputs": [
        {
          "output_type": "stream",
          "name": "stdout",
          "text": [
            "Collecting nbimporter\n",
            "  Downloading nbimporter-0.3.4-py3-none-any.whl.metadata (252 bytes)\n",
            "Downloading nbimporter-0.3.4-py3-none-any.whl (4.9 kB)\n",
            "Installing collected packages: nbimporter\n",
            "Successfully installed nbimporter-0.3.4\n"
          ]
        }
      ]
    },
    {
      "cell_type": "code",
      "source": [
        "!pip install ipynb"
      ],
      "metadata": {
        "colab": {
          "base_uri": "https://localhost:8080/"
        },
        "id": "4OJnQpbBTKFs",
        "outputId": "a2defa96-5427-4d78-9215-5974a8728b3f"
      },
      "execution_count": null,
      "outputs": [
        {
          "output_type": "stream",
          "name": "stdout",
          "text": [
            "Collecting ipynb\n",
            "  Downloading ipynb-0.5.1-py3-none-any.whl.metadata (303 bytes)\n",
            "Downloading ipynb-0.5.1-py3-none-any.whl (6.9 kB)\n",
            "Installing collected packages: ipynb\n",
            "Successfully installed ipynb-0.5.1\n"
          ]
        }
      ]
    },
    {
      "cell_type": "code",
      "source": [
        "%%writefile pizza.py\n",
        "def make_pizza(size, *toppings):\n",
        "    print(f\"\\nMaking a {size}-inch pizza with the following toppings:\")\n",
        "    for topping in toppings:\n",
        "        print(f\"- {topping}\")\n"
      ],
      "metadata": {
        "colab": {
          "base_uri": "https://localhost:8080/"
        },
        "id": "0C4jgv4fVi5v",
        "outputId": "947ebc78-dd34-43d4-f742-b515dbaf1500"
      },
      "execution_count": null,
      "outputs": [
        {
          "output_type": "stream",
          "name": "stdout",
          "text": [
            "Writing pizza.py\n"
          ]
        }
      ]
    },
    {
      "cell_type": "code",
      "source": [
        "from pizza import make_pizza   # stored make_pizza function in pizza module\n",
        "make_pizza(16,'pepperoni')"
      ],
      "metadata": {
        "colab": {
          "base_uri": "https://localhost:8080/"
        },
        "id": "u-AxlNSZWEOd",
        "outputId": "f93423e7-e48d-428b-ba30-dc94510f8e2b"
      },
      "execution_count": null,
      "outputs": [
        {
          "output_type": "stream",
          "name": "stdout",
          "text": [
            "\n",
            "Making a 16-inch pizza with the following toppings:\n",
            "- pepperoni\n"
          ]
        }
      ]
    },
    {
      "cell_type": "markdown",
      "source": [
        "17. Importing Specific Functions"
      ],
      "metadata": {
        "id": "ayBjcm3bWNAN"
      }
    },
    {
      "cell_type": "code",
      "source": [
        "from pizza import make_pizza   # importing make_pizza function from pizza module\n",
        "\n",
        "make_pizza(16, \"pepperoni\")\n",
        "make_pizza(22, \"pepperoni\", \"mushrooms\", \"green pepper\", \"extra cheese\")"
      ],
      "metadata": {
        "colab": {
          "base_uri": "https://localhost:8080/"
        },
        "id": "X6lvAQZBWHa7",
        "outputId": "bc714fe3-e8e4-4998-fd83-cb9a1feb47d7"
      },
      "execution_count": null,
      "outputs": [
        {
          "output_type": "stream",
          "name": "stdout",
          "text": [
            "\n",
            "Making a 16-inch pizza with the following toppings:\n",
            "- pepperoni\n",
            "\n",
            "Making a 22-inch pizza with the following toppings:\n",
            "- pepperoni\n",
            "- mushrooms\n",
            "- green pepper\n",
            "- extra cheese\n"
          ]
        }
      ]
    },
    {
      "cell_type": "markdown",
      "source": [
        "18. Give a Function an Alias using 'as'"
      ],
      "metadata": {
        "id": "jCLt9x5DWTsi"
      }
    },
    {
      "cell_type": "code",
      "source": [
        "from pizza import make_pizza as mp  # Giving alias 'mp' to the function\n",
        "\n",
        "mp(12, \"onions\", \"capsicum\")\n",
        "mp(18, \"mushrooms\", \"paneer\", \"black olives\")"
      ],
      "metadata": {
        "colab": {
          "base_uri": "https://localhost:8080/"
        },
        "id": "-34vgllkWRJs",
        "outputId": "f68cd003-2d66-4cb4-9be8-9319e33fb23c"
      },
      "execution_count": null,
      "outputs": [
        {
          "output_type": "stream",
          "name": "stdout",
          "text": [
            "\n",
            "Making a 12-inch pizza with the following toppings:\n",
            "- onions\n",
            "- capsicum\n",
            "\n",
            "Making a 18-inch pizza with the following toppings:\n",
            "- mushrooms\n",
            "- paneer\n",
            "- black olives\n"
          ]
        }
      ]
    },
    {
      "cell_type": "markdown",
      "source": [
        "19. Give a Module an Alias using 'as'"
      ],
      "metadata": {
        "id": "AYdOW0i_WgdP"
      }
    },
    {
      "cell_type": "code",
      "source": [
        "import pizza as p  # Giving alias 'p' to the module\n",
        "\n",
        "p.make_pizza(14, \"cheese\")\n",
        "p.make_pizza(18, \"pepperoni\", \"mushrooms\", \"capsicum\")"
      ],
      "metadata": {
        "colab": {
          "base_uri": "https://localhost:8080/"
        },
        "id": "QYI6I74qWaua",
        "outputId": "afbd4347-ffe1-4e06-c7b4-a27e75af7b71"
      },
      "execution_count": null,
      "outputs": [
        {
          "output_type": "stream",
          "name": "stdout",
          "text": [
            "\n",
            "Making a 14-inch pizza with the following toppings:\n",
            "- cheese\n",
            "\n",
            "Making a 18-inch pizza with the following toppings:\n",
            "- pepperoni\n",
            "- mushrooms\n",
            "- capsicum\n"
          ]
        }
      ]
    },
    {
      "cell_type": "markdown",
      "source": [
        "20. Importing all Functions in a Module"
      ],
      "metadata": {
        "id": "ZkwgFuNXWmvR"
      }
    },
    {
      "cell_type": "code",
      "source": [
        "from pizza import *  # Imports all functions from pizza module\n",
        "\n",
        "make_pizza(12, \"sweet corn\")\n",
        "make_pizza(16, \"pepperoni\", \"olives\", \"cheese\")"
      ],
      "metadata": {
        "colab": {
          "base_uri": "https://localhost:8080/"
        },
        "id": "ostYuSfNWjZC",
        "outputId": "63ab32b1-c710-480c-ba34-bcfea337ce0a"
      },
      "execution_count": null,
      "outputs": [
        {
          "output_type": "stream",
          "name": "stdout",
          "text": [
            "\n",
            "Making a 12-inch pizza with the following toppings:\n",
            "- sweet corn\n",
            "\n",
            "Making a 16-inch pizza with the following toppings:\n",
            "- pepperoni\n",
            "- olives\n",
            "- cheese\n"
          ]
        }
      ]
    },
    {
      "cell_type": "markdown",
      "source": [
        "21. Storing your functions in modules (import as .ipynb)"
      ],
      "metadata": {
        "id": "68lj5PeWWvtP"
      }
    },
    {
      "cell_type": "code",
      "source": [],
      "metadata": {
        "id": "jtGiIEG6WzlX"
      },
      "execution_count": null,
      "outputs": []
    }
  ]
}