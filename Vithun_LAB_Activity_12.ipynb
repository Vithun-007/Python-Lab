{
 "cells": [
  {
   "cell_type": "markdown",
   "id": "59685728",
   "metadata": {},
   "source": [
    "## LAB ACTIVITY 12\n",
    "## NAME : G S VITHUN; REG NO : 22MID0099; COURSE CODE: CSI3007; LAB : L7+L8;\n",
    "## DATE : 09/09/2025"
   ]
  },
  {
   "cell_type": "markdown",
   "id": "8b2d42e7",
   "metadata": {},
   "source": [
    "## 1. Handling CSV"
   ]
  },
  {
   "cell_type": "code",
   "execution_count": 17,
   "id": "147b9265",
   "metadata": {},
   "outputs": [],
   "source": [
    "import pandas as pd\n",
    "import numpy as np\n",
    "import io\n",
    "\n",
    "# Create a CSV file \n",
    "csv_data = \"\"\"Name,Age,City,Salary,Education\n",
    "Alice,25,New York,70000,Bachelors\n",
    "Bob,30,Los Angeles,85000,Masters\n",
    "Charlie,35,Chicago,92000,PhD\n",
    "David,28,Houston,75000,Bachelors\n",
    "Eve,32,Phoenix,88000,Masters\n",
    "\"\"\""
   ]
  },
  {
   "cell_type": "code",
   "execution_count": 30,
   "id": "41cb5520",
   "metadata": {},
   "outputs": [],
   "source": [
    "# String as a File \n",
    "df = pd.read_csv(io.StringIO(csv_data)) # Initialize a StringIO object with an existing string, and then read from it just like you would from a file. \n",
    "df.to_csv(\"employee_data.csv\", index=False) #writes the contents of a DataFrame to a CSV file."
   ]
  },
  {
   "cell_type": "code",
   "execution_count": 23,
   "id": "dfc42134",
   "metadata": {},
   "outputs": [
    {
     "name": "stdout",
     "output_type": "stream",
     "text": [
      "      price  area  bedrooms  bathrooms  stories mainroad guestroom basement  \\\n",
      "0  13300000  7420         4          2        3      yes        no       no   \n",
      "1  12250000  8960         4          4        4      yes        no       no   \n",
      "2  12250000  9960         3          2        2      yes        no      yes   \n",
      "3  12215000  7500         4          2        2      yes        no      yes   \n",
      "4  11410000  7420         4          1        2      yes       yes      yes   \n",
      "\n",
      "  hotwaterheating airconditioning  parking prefarea furnishingstatus  \n",
      "0              no             yes        2      yes        furnished  \n",
      "1              no             yes        3       no        furnished  \n",
      "2              no              no        2      yes   semi-furnished  \n",
      "3              no             yes        3      yes        furnished  \n",
      "4              no             yes        2       no        furnished  \n"
     ]
    }
   ],
   "source": [
    "data = pd.read_csv(\"Housing.csv\") # Reads the CSV file into a DataFrame\n",
    "print(data.head()) # Displays the first 5 rows of the DataFrame"
   ]
  },
  {
   "cell_type": "code",
   "execution_count": 25,
   "id": "7b3fd4f6",
   "metadata": {},
   "outputs": [
    {
     "name": "stdout",
     "output_type": "stream",
     "text": [
      "<class 'pandas.core.frame.DataFrame'>\n",
      "RangeIndex: 545 entries, 0 to 544\n",
      "Data columns (total 13 columns):\n",
      " #   Column            Non-Null Count  Dtype \n",
      "---  ------            --------------  ----- \n",
      " 0   price             545 non-null    int64 \n",
      " 1   area              545 non-null    int64 \n",
      " 2   bedrooms          545 non-null    int64 \n",
      " 3   bathrooms         545 non-null    int64 \n",
      " 4   stories           545 non-null    int64 \n",
      " 5   mainroad          545 non-null    object\n",
      " 6   guestroom         545 non-null    object\n",
      " 7   basement          545 non-null    object\n",
      " 8   hotwaterheating   545 non-null    object\n",
      " 9   airconditioning   545 non-null    object\n",
      " 10  parking           545 non-null    int64 \n",
      " 11  prefarea          545 non-null    object\n",
      " 12  furnishingstatus  545 non-null    object\n",
      "dtypes: int64(6), object(7)\n",
      "memory usage: 55.5+ KB\n",
      "None\n"
     ]
    }
   ],
   "source": [
    "print(data.info()) # Provides a summary of the DataFrame, including data types and non-null values"
   ]
  },
  {
   "cell_type": "code",
   "execution_count": 27,
   "id": "bcfd052b",
   "metadata": {},
   "outputs": [
    {
     "name": "stdout",
     "output_type": "stream",
     "text": [
      "(545, 13)\n"
     ]
    }
   ],
   "source": [
    "print(data.shape) # Displays Rows and columns"
   ]
  },
  {
   "cell_type": "markdown",
   "id": "5b686d79",
   "metadata": {},
   "source": [
    "## Read a CSV File"
   ]
  },
  {
   "cell_type": "markdown",
   "id": "d9bd064c",
   "metadata": {},
   "source": [
    "### 1. Extract the contents of a CSV File into a Pandas Dataframe"
   ]
  },
  {
   "cell_type": "code",
   "execution_count": 19,
   "id": "55f9747b",
   "metadata": {},
   "outputs": [
    {
     "name": "stdout",
     "output_type": "stream",
     "text": [
      "      Name  Age         City  Salary  Education\n",
      "0    Alice   25     New York   70000  Bachelors\n",
      "1      Bob   30  Los Angeles   85000    Masters\n",
      "2  Charlie   35      Chicago   92000        PhD\n",
      "3    David   28      Houston   75000  Bachelors\n",
      "4      Eve   32      Phoenix   88000    Masters\n"
     ]
    }
   ],
   "source": [
    "df = pd.read_csv(\"employee_data.csv\") # reading data from a CSV file. It automatically parses the file, recognizes the headers, and loads the content into a Pandas DataFrame\n",
    "print(df)"
   ]
  },
  {
   "cell_type": "markdown",
   "id": "609248b2",
   "metadata": {},
   "source": [
    "### 2. Read a CSV Chunk-by-chunk"
   ]
  },
  {
   "cell_type": "code",
   "execution_count": 33,
   "id": "741d1ef2",
   "metadata": {},
   "outputs": [
    {
     "name": "stdout",
     "output_type": "stream",
     "text": [
      "DataFrame Chunk 1:\n",
      "       price  area  bedrooms  bathrooms  stories mainroad guestroom basement  \\\n",
      "0   13300000  7420         4          2        3      yes        no       no   \n",
      "1   12250000  8960         4          4        4      yes        no       no   \n",
      "2   12250000  9960         3          2        2      yes        no      yes   \n",
      "3   12215000  7500         4          2        2      yes        no      yes   \n",
      "4   11410000  7420         4          1        2      yes       yes      yes   \n",
      "..       ...   ...       ...        ...      ...      ...       ...      ...   \n",
      "95   6300000  4100         3          2        3      yes        no       no   \n",
      "96   6300000  9000         3          1        1      yes        no      yes   \n",
      "97   6300000  6400         3          1        1      yes       yes      yes   \n",
      "98   6293000  6600         3          2        3      yes        no       no   \n",
      "99   6265000  6000         4          1        3      yes       yes      yes   \n",
      "\n",
      "   hotwaterheating airconditioning  parking prefarea furnishingstatus  \n",
      "0               no             yes        2      yes        furnished  \n",
      "1               no             yes        3       no        furnished  \n",
      "2               no              no        2      yes   semi-furnished  \n",
      "3               no             yes        3      yes        furnished  \n",
      "4               no             yes        2       no        furnished  \n",
      "..             ...             ...      ...      ...              ...  \n",
      "95              no             yes        2       no   semi-furnished  \n",
      "96              no              no        1      yes        furnished  \n",
      "97              no             yes        1      yes   semi-furnished  \n",
      "98              no             yes        0      yes      unfurnished  \n",
      "99              no              no        0      yes      unfurnished  \n",
      "\n",
      "[100 rows x 13 columns]\n",
      "DataFrame Chunk 2:\n",
      "       price  area  bedrooms  bathrooms  stories mainroad guestroom basement  \\\n",
      "100  6230000  6600         3          2        1      yes        no      yes   \n",
      "101  6230000  5500         3          1        3      yes        no       no   \n",
      "102  6195000  5500         3          2        4      yes       yes       no   \n",
      "103  6195000  6350         3          2        3      yes       yes       no   \n",
      "104  6195000  5500         3          2        1      yes       yes      yes   \n",
      "..       ...   ...       ...        ...      ...      ...       ...      ...   \n",
      "195  4970000  4410         4          3        2      yes        no      yes   \n",
      "196  4970000  7686         3          1        1      yes       yes      yes   \n",
      "197  4956000  2800         3          2        2       no        no      yes   \n",
      "198  4935000  5948         3          1        2      yes        no       no   \n",
      "199  4907000  4200         3          1        2      yes        no       no   \n",
      "\n",
      "    hotwaterheating airconditioning  parking prefarea furnishingstatus  \n",
      "100              no             yes        0      yes      unfurnished  \n",
      "101              no              no        1      yes      unfurnished  \n",
      "102              no             yes        1       no   semi-furnished  \n",
      "103              no             yes        0       no        furnished  \n",
      "104              no              no        2      yes        furnished  \n",
      "..              ...             ...      ...      ...              ...  \n",
      "195              no              no        2       no   semi-furnished  \n",
      "196             yes              no        0       no   semi-furnished  \n",
      "197              no             yes        1       no   semi-furnished  \n",
      "198              no             yes        0       no   semi-furnished  \n",
      "199              no              no        1       no        furnished  \n",
      "\n",
      "[100 rows x 13 columns]\n",
      "DataFrame Chunk 3:\n",
      "       price  area  bedrooms  bathrooms  stories mainroad guestroom basement  \\\n",
      "200  4900000  4520         3          1        2      yes        no      yes   \n",
      "201  4900000  4095         3          1        2       no       yes      yes   \n",
      "202  4900000  4120         2          1        1      yes        no      yes   \n",
      "203  4900000  5400         4          1        2      yes        no       no   \n",
      "204  4900000  4770         3          1        1      yes       yes      yes   \n",
      "..       ...   ...       ...        ...      ...      ...       ...      ...   \n",
      "295  4200000  2325         3          1        2       no        no       no   \n",
      "296  4200000  4600         3          2        2      yes        no       no   \n",
      "297  4200000  3640         3          2        2      yes        no      yes   \n",
      "298  4200000  5800         3          1        1      yes        no       no   \n",
      "299  4200000  7000         3          1        1      yes        no       no   \n",
      "\n",
      "    hotwaterheating airconditioning  parking prefarea furnishingstatus  \n",
      "200              no             yes        0       no   semi-furnished  \n",
      "201              no             yes        0       no   semi-furnished  \n",
      "202              no              no        1       no   semi-furnished  \n",
      "203              no              no        0       no   semi-furnished  \n",
      "204              no              no        0       no   semi-furnished  \n",
      "..              ...             ...      ...      ...              ...  \n",
      "295              no              no        0       no   semi-furnished  \n",
      "296              no             yes        1       no   semi-furnished  \n",
      "297              no              no        0       no      unfurnished  \n",
      "298             yes              no        2       no   semi-furnished  \n",
      "299              no              no        3       no        furnished  \n",
      "\n",
      "[100 rows x 13 columns]\n",
      "DataFrame Chunk 4:\n",
      "       price  area  bedrooms  bathrooms  stories mainroad guestroom basement  \\\n",
      "300  4200000  4079         3          1        3      yes        no       no   \n",
      "301  4200000  3520         3          1        2      yes        no       no   \n",
      "302  4200000  2145         3          1        3      yes        no       no   \n",
      "303  4200000  4500         3          1        1      yes        no      yes   \n",
      "304  4193000  8250         3          1        1      yes        no      yes   \n",
      "..       ...   ...       ...        ...      ...      ...       ...      ...   \n",
      "395  3500000  3600         6          1        2      yes        no       no   \n",
      "396  3500000  3640         2          1        1      yes        no       no   \n",
      "397  3500000  5900         2          1        1      yes        no       no   \n",
      "398  3500000  3120         3          1        2      yes        no       no   \n",
      "399  3500000  7350         2          1        1      yes        no       no   \n",
      "\n",
      "    hotwaterheating airconditioning  parking prefarea furnishingstatus  \n",
      "300              no              no        0       no   semi-furnished  \n",
      "301              no              no        0      yes   semi-furnished  \n",
      "302              no              no        1      yes      unfurnished  \n",
      "303              no              no        0       no        furnished  \n",
      "304              no              no        3       no   semi-furnished  \n",
      "..              ...             ...      ...      ...              ...  \n",
      "395              no              no        1       no      unfurnished  \n",
      "396              no              no        1       no   semi-furnished  \n",
      "397              no              no        1       no        furnished  \n",
      "398              no              no        1       no      unfurnished  \n",
      "399              no              no        1       no   semi-furnished  \n",
      "\n",
      "[100 rows x 13 columns]\n",
      "DataFrame Chunk 5:\n",
      "       price   area  bedrooms  bathrooms  stories mainroad guestroom basement  \\\n",
      "400  3500000   3512         2          1        1      yes        no       no   \n",
      "401  3500000   9500         3          1        2      yes        no       no   \n",
      "402  3500000   5880         2          1        1      yes        no       no   \n",
      "403  3500000  12944         3          1        1      yes        no       no   \n",
      "404  3493000   4900         3          1        2       no        no       no   \n",
      "..       ...    ...       ...        ...      ...      ...       ...      ...   \n",
      "495  2730000   4000         3          1        2      yes        no       no   \n",
      "496  2695000   4000         2          1        1      yes        no       no   \n",
      "497  2660000   3934         2          1        1      yes        no       no   \n",
      "498  2660000   2000         2          1        2      yes        no       no   \n",
      "499  2660000   3630         3          3        2       no       yes       no   \n",
      "\n",
      "    hotwaterheating airconditioning  parking prefarea furnishingstatus  \n",
      "400              no              no        1      yes      unfurnished  \n",
      "401              no              no        3      yes      unfurnished  \n",
      "402              no              no        0       no      unfurnished  \n",
      "403              no              no        0       no      unfurnished  \n",
      "404              no              no        0       no      unfurnished  \n",
      "..              ...             ...      ...      ...              ...  \n",
      "495              no              no        1       no      unfurnished  \n",
      "496              no              no        0       no      unfurnished  \n",
      "497              no              no        0       no      unfurnished  \n",
      "498              no              no        0       no   semi-furnished  \n",
      "499              no              no        0       no      unfurnished  \n",
      "\n",
      "[100 rows x 13 columns]\n",
      "DataFrame Chunk 6:\n",
      "       price  area  bedrooms  bathrooms  stories mainroad guestroom basement  \\\n",
      "500  2660000  2800         3          1        1      yes        no       no   \n",
      "501  2660000  2430         3          1        1       no        no       no   \n",
      "502  2660000  3480         2          1        1      yes        no       no   \n",
      "503  2660000  4000         3          1        1      yes        no       no   \n",
      "504  2653000  3185         2          1        1      yes        no       no   \n",
      "505  2653000  4000         3          1        2      yes        no       no   \n",
      "506  2604000  2910         2          1        1       no        no       no   \n",
      "507  2590000  3600         2          1        1      yes        no       no   \n",
      "508  2590000  4400         2          1        1      yes        no       no   \n",
      "509  2590000  3600         2          2        2      yes        no      yes   \n",
      "510  2520000  2880         3          1        1       no        no       no   \n",
      "511  2520000  3180         3          1        1       no        no       no   \n",
      "512  2520000  3000         2          1        2      yes        no       no   \n",
      "513  2485000  4400         3          1        2      yes        no       no   \n",
      "514  2485000  3000         3          1        2       no        no       no   \n",
      "515  2450000  3210         3          1        2      yes        no      yes   \n",
      "516  2450000  3240         2          1        1       no       yes       no   \n",
      "517  2450000  3000         2          1        1      yes        no       no   \n",
      "518  2450000  3500         2          1        1      yes       yes       no   \n",
      "519  2450000  4840         2          1        2      yes        no       no   \n",
      "520  2450000  7700         2          1        1      yes        no       no   \n",
      "521  2408000  3635         2          1        1       no        no       no   \n",
      "522  2380000  2475         3          1        2      yes        no       no   \n",
      "523  2380000  2787         4          2        2      yes        no       no   \n",
      "524  2380000  3264         2          1        1      yes        no       no   \n",
      "525  2345000  3640         2          1        1      yes        no       no   \n",
      "526  2310000  3180         2          1        1      yes        no       no   \n",
      "527  2275000  1836         2          1        1       no        no      yes   \n",
      "528  2275000  3970         1          1        1       no        no       no   \n",
      "529  2275000  3970         3          1        2      yes        no      yes   \n",
      "530  2240000  1950         3          1        1       no        no       no   \n",
      "531  2233000  5300         3          1        1       no        no       no   \n",
      "532  2135000  3000         2          1        1       no        no       no   \n",
      "533  2100000  2400         3          1        2      yes        no       no   \n",
      "534  2100000  3000         4          1        2      yes        no       no   \n",
      "535  2100000  3360         2          1        1      yes        no       no   \n",
      "536  1960000  3420         5          1        2       no        no       no   \n",
      "537  1890000  1700         3          1        2      yes        no       no   \n",
      "538  1890000  3649         2          1        1      yes        no       no   \n",
      "539  1855000  2990         2          1        1       no        no       no   \n",
      "540  1820000  3000         2          1        1      yes        no      yes   \n",
      "541  1767150  2400         3          1        1       no        no       no   \n",
      "542  1750000  3620         2          1        1      yes        no       no   \n",
      "543  1750000  2910         3          1        1       no        no       no   \n",
      "544  1750000  3850         3          1        2      yes        no       no   \n",
      "545  9240000  7800         3          2        2      yes        no       no   \n",
      "\n",
      "    hotwaterheating airconditioning  parking prefarea furnishingstatus  \n",
      "500              no              no        0       no      unfurnished  \n",
      "501              no              no        0       no      unfurnished  \n",
      "502              no              no        1       no   semi-furnished  \n",
      "503              no              no        0       no   semi-furnished  \n",
      "504              no             yes        0       no      unfurnished  \n",
      "505              no             yes        0       no      unfurnished  \n",
      "506              no              no        0       no      unfurnished  \n",
      "507              no              no        0       no      unfurnished  \n",
      "508              no              no        0       no      unfurnished  \n",
      "509              no              no        1       no        furnished  \n",
      "510              no              no        0       no      unfurnished  \n",
      "511              no              no        0       no      unfurnished  \n",
      "512              no              no        0       no        furnished  \n",
      "513              no              no        0       no      unfurnished  \n",
      "514              no              no        0       no   semi-furnished  \n",
      "515              no              no        0       no      unfurnished  \n",
      "516              no              no        1       no      unfurnished  \n",
      "517              no              no        1       no      unfurnished  \n",
      "518              no              no        0       no      unfurnished  \n",
      "519              no              no        0       no      unfurnished  \n",
      "520              no              no        0       no      unfurnished  \n",
      "521              no              no        0       no      unfurnished  \n",
      "522              no              no        0       no        furnished  \n",
      "523              no              no        0       no        furnished  \n",
      "524              no              no        0       no      unfurnished  \n",
      "525              no              no        0       no      unfurnished  \n",
      "526              no              no        0       no      unfurnished  \n",
      "527              no              no        0       no   semi-furnished  \n",
      "528              no              no        0       no      unfurnished  \n",
      "529              no              no        0       no      unfurnished  \n",
      "530             yes              no        0       no      unfurnished  \n",
      "531              no             yes        0      yes      unfurnished  \n",
      "532              no              no        0       no      unfurnished  \n",
      "533              no              no        0       no      unfurnished  \n",
      "534              no              no        0       no      unfurnished  \n",
      "535              no              no        1       no      unfurnished  \n",
      "536              no              no        0       no      unfurnished  \n",
      "537              no              no        0       no      unfurnished  \n",
      "538              no              no        0       no      unfurnished  \n",
      "539              no              no        1       no      unfurnished  \n",
      "540              no              no        2       no      unfurnished  \n",
      "541              no              no        0       no   semi-furnished  \n",
      "542              no              no        0       no      unfurnished  \n",
      "543              no              no        0       no        furnished  \n",
      "544              no              no        0       no      unfurnished  \n",
      "545              no              no        1      yes   semi-furnished  \n"
     ]
    }
   ],
   "source": [
    "chunk_size = 100\n",
    "count = 1\n",
    "#sets chunksize to 100, so instead of loading the entire file at once, it reads and processes the data in smaller, manageable pieces \n",
    "for chunk in pd.read_csv(\"Housing.csv\", chunksize=chunk_size): #chunks of 100 rows each\n",
    "    print(f\"DataFrame Chunk {count}:\") \n",
    "    print(chunk)\n",
    "    count += 1"
   ]
  },
  {
   "cell_type": "markdown",
   "id": "dee0a38e",
   "metadata": {},
   "source": [
    "### 3. Append to a CSV"
   ]
  },
  {
   "cell_type": "code",
   "execution_count": 29,
   "id": "f3ad0b3d",
   "metadata": {},
   "outputs": [
    {
     "name": "stdout",
     "output_type": "stream",
     "text": [
      "        price  area  bedrooms  bathrooms  stories mainroad guestroom basement  \\\n",
      "0    13300000  7420         4          2        3      yes        no       no   \n",
      "1    12250000  8960         4          4        4      yes        no       no   \n",
      "2    12250000  9960         3          2        2      yes        no      yes   \n",
      "3    12215000  7500         4          2        2      yes        no      yes   \n",
      "4    11410000  7420         4          1        2      yes       yes      yes   \n",
      "..        ...   ...       ...        ...      ...      ...       ...      ...   \n",
      "541   1767150  2400         3          1        1       no        no       no   \n",
      "542   1750000  3620         2          1        1      yes        no       no   \n",
      "543   1750000  2910         3          1        1       no        no       no   \n",
      "544   1750000  3850         3          1        2      yes        no       no   \n",
      "545   9240000  7800         3          2        2      yes        no       no   \n",
      "\n",
      "    hotwaterheating airconditioning  parking prefarea furnishingstatus  \n",
      "0                no             yes        2      yes        furnished  \n",
      "1                no             yes        3       no        furnished  \n",
      "2                no              no        2      yes   semi-furnished  \n",
      "3                no             yes        3      yes        furnished  \n",
      "4                no             yes        2       no        furnished  \n",
      "..              ...             ...      ...      ...              ...  \n",
      "541              no              no        0       no   semi-furnished  \n",
      "542              no              no        0       no      unfurnished  \n",
      "543              no              no        0       no        furnished  \n",
      "544              no              no        0       no      unfurnished  \n",
      "545              no              no        1      yes   semi-furnished  \n",
      "\n",
      "[546 rows x 13 columns]\n"
     ]
    }
   ],
   "source": [
    "new_data = pd.DataFrame([[9240000,7800,3,2,2,'yes','no','no','no','no',1,'yes','semi-furnished']], columns=['price','area','bedrooms','bathrooms','stories','mainroad','guestroom','basement','hotwaterheating','airconditioning','parking','prefarea','furnishingstatus'])\n",
    "#Appending new data to an existing CSV file is done by using the mode='a' and header=False parameters in the to_csv() function. \n",
    "new_data.to_csv('Housing.csv', mode='a', header=False, index=False) \n",
    "df_appended = pd.read_csv(\"Housing.csv\")\n",
    "print(df_appended)"
   ]
  },
  {
   "cell_type": "markdown",
   "id": "4b64136d",
   "metadata": {},
   "source": [
    "## Writing to a CSV File"
   ]
  },
  {
   "cell_type": "markdown",
   "id": "50a6e469",
   "metadata": {},
   "source": [
    "### 4. Writing numeric data to a new CSV file"
   ]
  },
  {
   "cell_type": "code",
   "execution_count": 31,
   "id": "f7f430c0",
   "metadata": {},
   "outputs": [
    {
     "name": "stdout",
     "output_type": "stream",
     "text": [
      "     A   B   C\n",
      "0   92  87  38\n",
      "1   76  58  19\n",
      "2   69  30  47\n",
      "3   33  48  67\n",
      "4   90  56  96\n",
      "5   41  32  36\n",
      "6   23  81  76\n",
      "7   56  67  67\n",
      "8   54  41  16\n",
      "9   33  74  72\n",
      "10  66  49  17\n",
      "11  81  98  29\n",
      "12  68  16  91\n",
      "13  97  16  77\n",
      "14  80  46  31\n",
      "15  72  50  69\n",
      "16  80  71  50\n",
      "17  88  70  94\n",
      "18  68  75  48\n",
      "19  32  58  99\n",
      "20  34  87  83\n",
      "21  44  92  32\n",
      "22  97  21  60\n",
      "23  43  24  53\n",
      "24  56  82  91\n",
      "25  29  93  89\n",
      "26  74  47  46\n",
      "27  29  95  44\n",
      "28  88  49  34\n",
      "29  57  92  12\n",
      "30  91  86  36\n",
      "31  45  78  81\n",
      "32  27  42  63\n",
      "33  94  76  61\n",
      "34  84  14  79\n",
      "35  86  28  19\n",
      "36  26  56  13\n",
      "37  60  76  13\n",
      "38  16  47  65\n",
      "39  89  23  72\n",
      "40  74  10  25\n",
      "41  66  51  52\n",
      "42  43  79  74\n",
      "43  52  60  71\n",
      "44  42  70  20\n",
      "45  94  93  90\n",
      "46  18  76  87\n",
      "47  78  34  69\n",
      "48  28  26  32\n",
      "49  49  19  79\n"
     ]
    }
   ],
   "source": [
    "numeric_df = pd.DataFrame(np.random.randint(10, 100, size=(50, 3)), columns=['A', 'B', 'C'])\n",
    "numeric_df.to_csv('numeric_data.csv', index=False) # writes the contents of a DataFrame to a CSV file.\n",
    "numeric_df_read = pd.read_csv(\"numeric_data.csv\") \n",
    "print(numeric_df_read)"
   ]
  },
  {
   "cell_type": "markdown",
   "id": "fafca1e4",
   "metadata": {},
   "source": [
    "### 5. Write text data into a CSV File"
   ]
  },
  {
   "cell_type": "code",
   "execution_count": 32,
   "id": "1f1c2f02",
   "metadata": {},
   "outputs": [
    {
     "name": "stdout",
     "output_type": "stream",
     "text": [
      "    Product               Description\n",
      "0    Laptop   High-performance laptop\n",
      "1     Mouse  Wireless ergonomic mouse\n",
      "2  Keyboard       Mechanical keyboard\n",
      "3   Monitor     4K ultra-wide monitor\n"
     ]
    }
   ],
   "source": [
    "text_data = {\n",
    "    'Product': ['Laptop', 'Mouse', 'Keyboard', 'Monitor'],\n",
    "    'Description': ['High-performance laptop', 'Wireless ergonomic mouse', 'Mechanical keyboard', '4K ultra-wide monitor']\n",
    "}\n",
    "text_df = pd.DataFrame(text_data)\n",
    "text_df.to_csv('text_data.csv', index=False) # writes the contents of a DataFrame to a CSV file. \n",
    "text_df_read = pd.read_csv(\"text_data.csv\")\n",
    "print(text_df_read)"
   ]
  },
  {
   "cell_type": "code",
   "execution_count": null,
   "id": "3b90d7d2",
   "metadata": {},
   "outputs": [],
   "source": []
  }
 ],
 "metadata": {
  "kernelspec": {
   "display_name": "Python 3 (ipykernel)",
   "language": "python",
   "name": "python3"
  },
  "language_info": {
   "codemirror_mode": {
    "name": "ipython",
    "version": 3
   },
   "file_extension": ".py",
   "mimetype": "text/x-python",
   "name": "python",
   "nbconvert_exporter": "python",
   "pygments_lexer": "ipython3",
   "version": "3.10.12"
  }
 },
 "nbformat": 4,
 "nbformat_minor": 5
}
