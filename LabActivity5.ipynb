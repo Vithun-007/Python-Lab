{
  "cells": [
    {
      "cell_type": "markdown",
      "metadata": {
        "colab_type": "text",
        "id": "view-in-github"
      },
      "source": [
        "<a href=\"https://colab.research.google.com/github/GOKULA-127/ADV-PYTHON/blob/main/Labactivity5.ipynb\" target=\"_parent\"><img src=\"https://colab.research.google.com/assets/colab-badge.svg\" alt=\"Open In Colab\"/></a>"
      ]
    },
    {
      "cell_type": "code",
      "execution_count": 3,
      "metadata": {
        "id": "pmqDduLuUAXL"
      },
      "outputs": [],
      "source": [
        "#LAB ACTIVITY 5\n",
        "#Slicing a List\n",
        "L = [0,1,2,3,4,5,6,7] #original list"
      ]
    },
    {
      "cell_type": "code",
      "execution_count": 4,
      "metadata": {
        "colab": {
          "base_uri": "https://localhost:8080/"
        },
        "id": "33vlMf-uUId4",
        "outputId": "eb183ae6-4566-48bd-855b-84c3a8809ca3"
      },
      "outputs": [
        {
          "data": {
            "text/plain": [
              "[2, 3, 4, 5, 6, 7]"
            ]
          },
          "execution_count": 4,
          "metadata": {},
          "output_type": "execute_result"
        }
      ],
      "source": [
        "#off by one behaviour\n",
        "# Printing from third to last elements of a list\n",
        "L[2:]"
      ]
    },
    {
      "cell_type": "code",
      "execution_count": 5,
      "metadata": {
        "colab": {
          "base_uri": "https://localhost:8080/"
        },
        "id": "BzThwZR2UcCz",
        "outputId": "fc49515f-04c4-4e8d-f000-bf3cee35ba1b"
      },
      "outputs": [
        {
          "data": {
            "text/plain": [
              "[0, 1]"
            ]
          },
          "execution_count": 5,
          "metadata": {},
          "output_type": "execute_result"
        }
      ],
      "source": [
        "# Printing first two elements of a list\n",
        "L[:2]"
      ]
    },
    {
      "cell_type": "code",
      "execution_count": 6,
      "metadata": {
        "colab": {
          "base_uri": "https://localhost:8080/"
        },
        "id": "TLAU9qa9UfsF",
        "outputId": "0d1381dc-6eba-485c-f6f1-f908cea2309a"
      },
      "outputs": [
        {
          "data": {
            "text/plain": [
              "[6, 7]"
            ]
          },
          "execution_count": 6,
          "metadata": {},
          "output_type": "execute_result"
        }
      ],
      "source": [
        "# Printing the last two elements\n",
        "L[-2:]"
      ]
    },
    {
      "cell_type": "code",
      "execution_count": 7,
      "metadata": {
        "colab": {
          "base_uri": "https://localhost:8080/"
        },
        "id": "dnaiH5f8UhuS",
        "outputId": "ee99e6b4-befe-41c0-a7e9-bf1f4712b166"
      },
      "outputs": [
        {
          "data": {
            "text/plain": [
              "[7, 6]"
            ]
          },
          "execution_count": 7,
          "metadata": {},
          "output_type": "execute_result"
        }
      ],
      "source": [
        "# Printing from last elements (last two elements)\n",
        "L[-1:-3:-1]"
      ]
    },
    {
      "cell_type": "code",
      "execution_count": 8,
      "metadata": {
        "colab": {
          "base_uri": "https://localhost:8080/"
        },
        "id": "7XRQZ_KaUjzs",
        "outputId": "24e25182-7954-4bee-adf7-a6b14fab8eb7"
      },
      "outputs": [
        {
          "data": {
            "text/plain": [
              "[7, 6, 5, 4, 3, 2, 1, 0]"
            ]
          },
          "execution_count": 8,
          "metadata": {},
          "output_type": "execute_result"
        }
      ],
      "source": [
        "# Printing from last elements\n",
        "L[-1::-1]"
      ]
    },
    {
      "cell_type": "code",
      "execution_count": 9,
      "metadata": {
        "id": "z9hjW-rJUl93"
      },
      "outputs": [],
      "source": [
        "#Copying the List\n",
        "my_fav = ['cake','pizza','stew'] # Original List\n",
        "frd_fav1 = my_fav[:]\n",
        "frd_fav2 = my_fav"
      ]
    },
    {
      "cell_type": "code",
      "execution_count": 10,
      "metadata": {
        "colab": {
          "base_uri": "https://localhost:8080/"
        },
        "id": "1qwFr4JjUrl8",
        "outputId": "fa742f01-49f5-42ce-aabb-795540af2356"
      },
      "outputs": [
        {
          "name": "stdout",
          "output_type": "stream",
          "text": [
            "['cake', 'pizza', 'stew']\n",
            "['cake', 'pizza', 'stew']\n",
            "['cake', 'pizza', 'stew']\n"
          ]
        }
      ],
      "source": [
        "print(my_fav)\n",
        "print(frd_fav1)  #Copy by Value\n",
        "print(frd_fav2)  #Copy by Reference"
      ]
    },
    {
      "cell_type": "code",
      "execution_count": 11,
      "metadata": {
        "id": "jJymXwQYUurT"
      },
      "outputs": [],
      "source": [
        "my_fav.append('porridge')  # Add new element to original list"
      ]
    },
    {
      "cell_type": "code",
      "execution_count": 12,
      "metadata": {
        "colab": {
          "base_uri": "https://localhost:8080/"
        },
        "id": "IbWqxHxLUyDM",
        "outputId": "053bab3c-357c-496d-f320-cf6647a2aaee"
      },
      "outputs": [
        {
          "name": "stdout",
          "output_type": "stream",
          "text": [
            "['cake', 'pizza', 'stew', 'porridge']\n",
            "['cake', 'pizza', 'stew']\n",
            "['cake', 'pizza', 'stew', 'porridge']\n"
          ]
        }
      ],
      "source": [
        "print(my_fav)\n",
        "print(frd_fav1)  #Copy by Value\n",
        "print(frd_fav2)  #Copy by Reference"
      ]
    },
    {
      "cell_type": "code",
      "execution_count": 13,
      "metadata": {
        "colab": {
          "base_uri": "https://localhost:8080/"
        },
        "id": "V7pgVoJ3U0jI",
        "outputId": "b0c17fe8-beeb-4261-b3c1-bd6d2fdd0287"
      },
      "outputs": [
        {
          "name": "stdout",
          "output_type": "stream",
          "text": [
            "137877134995200\n",
            "137877135101120\n",
            "137877134995200\n"
          ]
        }
      ],
      "source": [
        "print(id(my_fav))    #Original list Address\n",
        "print(id(frd_fav1))  # Copy by Value list Address\n",
        "print(id(frd_fav2))  #Copy by Reference list Address"
      ]
    },
    {
      "cell_type": "code",
      "execution_count": 14,
      "metadata": {
        "id": "J61LviwlU3LT"
      },
      "outputs": [],
      "source": [
        "frd_copy = my_fav.copy()   # Inbuilt Copy function"
      ]
    },
    {
      "cell_type": "code",
      "execution_count": 15,
      "metadata": {
        "id": "vJq7AvFCU5hb"
      },
      "outputs": [],
      "source": [
        "my_fav.append('ice-cream')  # Add new element to original list"
      ]
    },
    {
      "cell_type": "code",
      "execution_count": 16,
      "metadata": {
        "colab": {
          "base_uri": "https://localhost:8080/"
        },
        "id": "FV9MQVsYU7yx",
        "outputId": "25d3a632-435b-42e8-846d-ca0937d91ab7"
      },
      "outputs": [
        {
          "name": "stdout",
          "output_type": "stream",
          "text": [
            "['cake', 'pizza', 'stew', 'porridge', 'ice-cream']\n",
            "['cake', 'pizza', 'stew', 'porridge']\n"
          ]
        }
      ],
      "source": [
        "print(my_fav)\n",
        "print(frd_copy)    # Copy by Value"
      ]
    },
    {
      "cell_type": "code",
      "execution_count": 17,
      "metadata": {
        "colab": {
          "base_uri": "https://localhost:8080/"
        },
        "id": "49ycYCAzU-S9",
        "outputId": "e67d659b-b6e2-4341-d907-baa3f33bd9e4"
      },
      "outputs": [
        {
          "name": "stdout",
          "output_type": "stream",
          "text": [
            "0\n",
            "1\n",
            "2\n",
            "3\n",
            "4\n",
            "5\n",
            "6\n",
            "7\n"
          ]
        }
      ],
      "source": [
        "#Looping through a Slice\n",
        "# Looping through a Slice\n",
        "for item in L[:8]:\n",
        "    print(item)"
      ]
    },
    {
      "cell_type": "code",
      "execution_count": 18,
      "metadata": {
        "colab": {
          "base_uri": "https://localhost:8080/"
        },
        "id": "R-M_GF-zVBSk",
        "outputId": "49dd7e14-8897-45af-9d1e-2ec669d21ae5"
      },
      "outputs": [
        {
          "name": "stdout",
          "output_type": "stream",
          "text": [
            "Cake\n",
            "Pizza\n",
            "Stew\n",
            "Porridge\n",
            "Ice-Cream\n"
          ]
        }
      ],
      "source": [
        "# Looping through a Slice\n",
        "for item in my_fav[:6]:\n",
        "    print(item.title())"
      ]
    },
    {
      "cell_type": "code",
      "execution_count": 19,
      "metadata": {
        "colab": {
          "base_uri": "https://localhost:8080/"
        },
        "id": "FIprBCbEVDRf",
        "outputId": "a2bc5d88-5599-41e6-9288-0a0387a28de0"
      },
      "outputs": [
        {
          "data": {
            "text/plain": [
              "100"
            ]
          },
          "execution_count": 19,
          "metadata": {},
          "output_type": "execute_result"
        }
      ],
      "source": [
        "#Understanding a Tuple\n",
        "t = (50,100) # Original Tuple\n",
        "t[1]"
      ]
    },
    {
      "cell_type": "code",
      "execution_count": 20,
      "metadata": {
        "colab": {
          "base_uri": "https://localhost:8080/",
          "height": 146
        },
        "id": "w3pJrLqqVHo6",
        "outputId": "1540b23d-344c-4433-a4cf-637768b9d207"
      },
      "outputs": [
        {
          "ename": "TypeError",
          "evalue": "'tuple' object does not support item assignment",
          "output_type": "error",
          "traceback": [
            "\u001b[0;31m---------------------------------------------------------------------------\u001b[0m",
            "\u001b[0;31mTypeError\u001b[0m                                 Traceback (most recent call last)",
            "\u001b[0;32m/tmp/ipython-input-1409614293.py\u001b[0m in \u001b[0;36m<cell line: 0>\u001b[0;34m()\u001b[0m\n\u001b[0;32m----> 1\u001b[0;31m \u001b[0mt\u001b[0m\u001b[0;34m[\u001b[0m\u001b[0;36m0\u001b[0m\u001b[0;34m]\u001b[0m \u001b[0;34m=\u001b[0m \u001b[0;34m-\u001b[0m\u001b[0;36m20\u001b[0m \u001b[0;31m#object does not support item assignment\u001b[0m\u001b[0;34m\u001b[0m\u001b[0;34m\u001b[0m\u001b[0m\n\u001b[0m",
            "\u001b[0;31mTypeError\u001b[0m: 'tuple' object does not support item assignment"
          ]
        }
      ],
      "source": [
        "t[0] = -20 #object does not support item assignment"
      ]
    },
    {
      "cell_type": "code",
      "execution_count": 21,
      "metadata": {
        "colab": {
          "base_uri": "https://localhost:8080/"
        },
        "id": "xml8YCR0VJRB",
        "outputId": "2392baae-ba8e-436b-c05b-1c90641d357e"
      },
      "outputs": [
        {
          "name": "stdout",
          "output_type": "stream",
          "text": [
            "(1, 2, 3, 4, 5, 6, 7)\n"
          ]
        }
      ],
      "source": [
        "tup1 = (1,2,3,4,5,6,7) #Original tuple\n",
        "print(tup1)"
      ]
    },
    {
      "cell_type": "code",
      "execution_count": 22,
      "metadata": {
        "colab": {
          "base_uri": "https://localhost:8080/"
        },
        "id": "qD2bXq3-VLB7",
        "outputId": "8d54e7ce-2001-4df4-9ea4-1d2d0a5ea513"
      },
      "outputs": [
        {
          "name": "stdout",
          "output_type": "stream",
          "text": [
            "1\n",
            "2\n",
            "3\n",
            "4\n",
            "5\n",
            "6\n",
            "7\n"
          ]
        }
      ],
      "source": [
        "# Looping over a tuple\n",
        "for i in tup1:\n",
        "    print(i)"
      ]
    },
    {
      "cell_type": "code",
      "execution_count": 23,
      "metadata": {
        "colab": {
          "base_uri": "https://localhost:8080/"
        },
        "id": "ltnpr4t9VMow",
        "outputId": "03d9abdb-7d9f-4674-b11e-a9aa18e6c58a"
      },
      "outputs": [
        {
          "name": "stdout",
          "output_type": "stream",
          "text": [
            "1\n",
            "2\n",
            "3\n",
            "4\n",
            "5\n",
            "6\n",
            "7\n"
          ]
        }
      ],
      "source": [
        "# Looping through a Slice (in tuple)\n",
        "for i in tup1[0:]:\n",
        "    print(i)"
      ]
    },
    {
      "cell_type": "code",
      "execution_count": 24,
      "metadata": {
        "colab": {
          "base_uri": "https://localhost:8080/"
        },
        "id": "g_jSJBB2VOxa",
        "outputId": "93420866-cccc-4ec6-cd6a-6fbc59ae38bc"
      },
      "outputs": [
        {
          "name": "stdout",
          "output_type": "stream",
          "text": [
            "(7, 6, 5, 4, 3, 2, 1)\n"
          ]
        }
      ],
      "source": [
        "tup1 = (7,6,5,4,3,2,1) #Complete assignment (no error)\n",
        "print(tup1)"
      ]
    },
    {
      "cell_type": "code",
      "execution_count": 25,
      "metadata": {
        "colab": {
          "base_uri": "https://localhost:8080/"
        },
        "id": "1H0vbVgFVQmC",
        "outputId": "f9484f66-18f1-49e3-fff7-f093b4738a84"
      },
      "outputs": [
        {
          "name": "stdout",
          "output_type": "stream",
          "text": [
            "{'reg_no': '22MID0061', 'program': 'python', 'cgpa': 9.39, 'Attendace': 100}\n"
          ]
        }
      ],
      "source": [
        "#Dictionary\n",
        "student_1 = {'reg_no':'22MID0061', 'program':'python', 'cgpa':9.39, 'Attendace':100} # Original dict\n",
        "print(student_1)"
      ]
    },
    {
      "cell_type": "code",
      "execution_count": null,
      "metadata": {
        "id": "xFUqtFK1VWqu"
      },
      "outputs": [],
      "source": []
    }
  ],
  "metadata": {
    "colab": {
      "authorship_tag": "ABX9TyOSOQmBT1E+j5XaL99Ydlll",
      "include_colab_link": true,
      "provenance": []
    },
    "kernelspec": {
      "display_name": "Python 3",
      "name": "python3"
    },
    "language_info": {
      "name": "python"
    }
  },
  "nbformat": 4,
  "nbformat_minor": 0
}
