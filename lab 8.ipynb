{
  "nbformat": 4,
  "nbformat_minor": 0,
  "metadata": {
    "colab": {
      "provenance": [],
      "include_colab_link": true
    },
    "kernelspec": {
      "name": "python3",
      "display_name": "Python 3"
    },
    "language_info": {
      "name": "python"
    }
  },
  "cells": [
    {
      "cell_type": "markdown",
      "metadata": {
        "id": "view-in-github",
        "colab_type": "text"
      },
      "source": [
        "<a href=\"https://colab.research.google.com/github/Vithun-007/Python-Lab/blob/main/lab%208.ipynb\" target=\"_parent\"><img src=\"https://colab.research.google.com/assets/colab-badge.svg\" alt=\"Open In Colab\"/></a>"
      ]
    },
    {
      "cell_type": "markdown",
      "source": [
        "LAB ACTIVITY 8\n",
        "\n",
        "\n",
        "\n",
        "G S VITHUN\n",
        "\n",
        "22MID0099\n",
        "\n",
        "\n",
        "```\n",
        "# This is formatted as code\n",
        "```\n",
        "\n"
      ],
      "metadata": {
        "id": "WRrITqEDnGRZ"
      }
    },
    {
      "cell_type": "markdown",
      "source": [
        "Lambda function"
      ],
      "metadata": {
        "id": "r8iBbBTvnVpQ"
      }
    },
    {
      "cell_type": "code",
      "execution_count": null,
      "metadata": {
        "colab": {
          "base_uri": "https://localhost:8080/"
        },
        "id": "OWanXRWNnEca",
        "outputId": "400a2ae5-ae6b-4152-fc5c-a54b079c8e07"
      },
      "outputs": [
        {
          "output_type": "execute_result",
          "data": {
            "text/plain": [
              "20"
            ]
          },
          "metadata": {},
          "execution_count": 1
        }
      ],
      "source": [
        "# create function using def keyword\n",
        "def double(x):\n",
        "    return x*2\n",
        "double(10)  # function call"
      ]
    },
    {
      "cell_type": "code",
      "source": [
        "# create fuction using lambda\n",
        "x = lambda x:x*2\n",
        "x(50)   # function call"
      ],
      "metadata": {
        "colab": {
          "base_uri": "https://localhost:8080/"
        },
        "id": "J_dyqX1znau8",
        "outputId": "d3f84e6f-9f89-456b-fe46-6ea4b12ade26"
      },
      "execution_count": null,
      "outputs": [
        {
          "output_type": "execute_result",
          "data": {
            "text/plain": [
              "100"
            ]
          },
          "metadata": {},
          "execution_count": 2
        }
      ]
    },
    {
      "cell_type": "code",
      "source": [
        "# create function using def keyword\n",
        "def add(x,y):\n",
        "    return x+y\n",
        "add(25, 25)  # function call"
      ],
      "metadata": {
        "colab": {
          "base_uri": "https://localhost:8080/"
        },
        "id": "lX-i0tkXne_E",
        "outputId": "ee01f9b2-eadd-49cd-8b8d-57618f0f545d"
      },
      "execution_count": null,
      "outputs": [
        {
          "output_type": "execute_result",
          "data": {
            "text/plain": [
              "50"
            ]
          },
          "metadata": {},
          "execution_count": 3
        }
      ]
    },
    {
      "cell_type": "code",
      "source": [
        "# create fuction using lambda\n",
        "x = lambda x,y:x+y\n",
        "x(18,12) # function call"
      ],
      "metadata": {
        "colab": {
          "base_uri": "https://localhost:8080/"
        },
        "id": "w--FzVCRnhes",
        "outputId": "62676038-38f1-4bf3-a983-49bb58da4df0"
      },
      "execution_count": null,
      "outputs": [
        {
          "output_type": "execute_result",
          "data": {
            "text/plain": [
              "30"
            ]
          },
          "metadata": {},
          "execution_count": 4
        }
      ]
    },
    {
      "cell_type": "code",
      "source": [
        "# create function using def keyword\n",
        "def max(x,y):\n",
        "    if x>y:\n",
        "        return x\n",
        "    else:\n",
        "        return y\n",
        "max(10,15) # function call"
      ],
      "metadata": {
        "colab": {
          "base_uri": "https://localhost:8080/"
        },
        "id": "M7zcQOWunj_K",
        "outputId": "330c53f7-e0ba-4350-c55d-5a4e0478b4d5"
      },
      "execution_count": null,
      "outputs": [
        {
          "output_type": "execute_result",
          "data": {
            "text/plain": [
              "15"
            ]
          },
          "metadata": {},
          "execution_count": 5
        }
      ]
    },
    {
      "cell_type": "code",
      "source": [
        "# create fuction using lambda\n",
        "x = lambda x,y:x if x>y else y\n",
        "x(7, 18) # function call"
      ],
      "metadata": {
        "colab": {
          "base_uri": "https://localhost:8080/"
        },
        "id": "ouKzkpM9nlx9",
        "outputId": "7e4ef7b9-5bc2-457a-9ec1-b0e9d76f6e8d"
      },
      "execution_count": null,
      "outputs": [
        {
          "output_type": "execute_result",
          "data": {
            "text/plain": [
              "18"
            ]
          },
          "metadata": {},
          "execution_count": 6
        }
      ]
    },
    {
      "cell_type": "markdown",
      "source": [
        "Iterables"
      ],
      "metadata": {
        "id": "QHvCvFCanpp9"
      }
    },
    {
      "cell_type": "code",
      "source": [
        "num = [1,2,3,4,5]  # List is iterable\n",
        "for i in num:\n",
        "    print(i)"
      ],
      "metadata": {
        "colab": {
          "base_uri": "https://localhost:8080/"
        },
        "id": "msrQ2iAZnnd8",
        "outputId": "f848afb2-071e-48bb-b7ce-32b4bc3daf3d"
      },
      "execution_count": null,
      "outputs": [
        {
          "output_type": "stream",
          "name": "stdout",
          "text": [
            "1\n",
            "2\n",
            "3\n",
            "4\n",
            "5\n"
          ]
        }
      ]
    },
    {
      "cell_type": "code",
      "source": [
        "num1 = (1,2,3,4,5)  # tuple is iterable\n",
        "for i in num1:\n",
        "    print(i)"
      ],
      "metadata": {
        "colab": {
          "base_uri": "https://localhost:8080/"
        },
        "id": "a7-lcGO1nrk_",
        "outputId": "d0718e9b-8579-4767-c2d0-ea4deb072d80"
      },
      "execution_count": null,
      "outputs": [
        {
          "output_type": "stream",
          "name": "stdout",
          "text": [
            "1\n",
            "2\n",
            "3\n",
            "4\n",
            "5\n"
          ]
        }
      ]
    },
    {
      "cell_type": "code",
      "source": [
        "dict1 = {\"name\":\"Vithun\",\"Reg No\":\"22MID0099\"} # Dicitonary is iterable\n",
        "for i in dict1.items():\n",
        "    print(i)"
      ],
      "metadata": {
        "colab": {
          "base_uri": "https://localhost:8080/"
        },
        "id": "XgtqWqKlntgT",
        "outputId": "55399108-dd33-495a-921f-2a1841b142bd"
      },
      "execution_count": 1,
      "outputs": [
        {
          "output_type": "stream",
          "name": "stdout",
          "text": [
            "('name', 'Vithun')\n",
            "('Reg No', '22MID0099')\n"
          ]
        }
      ]
    },
    {
      "cell_type": "code",
      "source": [
        "name = \"vithun\"   # String is iterable\n",
        "for i in name:\n",
        "    print(i)"
      ],
      "metadata": {
        "colab": {
          "base_uri": "https://localhost:8080/"
        },
        "id": "_StMBdHmnvxA",
        "outputId": "3fae6b40-bf97-4aaa-8301-58914197dab5"
      },
      "execution_count": 2,
      "outputs": [
        {
          "output_type": "stream",
          "name": "stdout",
          "text": [
            "v\n",
            "i\n",
            "t\n",
            "h\n",
            "u\n",
            "n\n"
          ]
        }
      ]
    },
    {
      "cell_type": "code",
      "source": [
        "my_bytes = b\"hello\"  # Byte is iterable\n",
        "print(\"Iterating over a bytes object:\")\n",
        "for i in my_bytes:\n",
        "    print(i)"
      ],
      "metadata": {
        "colab": {
          "base_uri": "https://localhost:8080/"
        },
        "id": "n3OT_Wotn3dK",
        "outputId": "707735a5-4ef5-4324-f0d9-973039904aaf"
      },
      "execution_count": null,
      "outputs": [
        {
          "output_type": "stream",
          "name": "stdout",
          "text": [
            "Iterating over a bytes object:\n",
            "104\n",
            "101\n",
            "108\n",
            "108\n",
            "111\n"
          ]
        }
      ]
    },
    {
      "cell_type": "markdown",
      "source": [
        "Non - Iterable"
      ],
      "metadata": {
        "id": "N3qdJ9jGn-Gh"
      }
    },
    {
      "cell_type": "code",
      "source": [
        "n = 1234567\n",
        "str1 = str(n)  # Using conversion interger becomes iterable\n",
        "for i in str1:\n",
        "    print(i)"
      ],
      "metadata": {
        "colab": {
          "base_uri": "https://localhost:8080/"
        },
        "id": "2uZ7lMLAn5-r",
        "outputId": "c120cd8d-5cbc-427c-9539-4411391aeb12"
      },
      "execution_count": null,
      "outputs": [
        {
          "output_type": "stream",
          "name": "stdout",
          "text": [
            "1\n",
            "2\n",
            "3\n",
            "4\n",
            "5\n",
            "6\n",
            "7\n"
          ]
        }
      ]
    },
    {
      "cell_type": "code",
      "source": [
        "n = 1234567\n",
        "add = 0\n",
        "while n != 0:\n",
        "    digit = n % 10       # Without using conversion integer becomes iterable\n",
        "    print(digit)\n",
        "    n //= 10"
      ],
      "metadata": {
        "colab": {
          "base_uri": "https://localhost:8080/"
        },
        "id": "KJ-z7sQVoIrB",
        "outputId": "cfcc2a68-40ec-40dd-b6c6-473a8714a2f6"
      },
      "execution_count": null,
      "outputs": [
        {
          "output_type": "stream",
          "name": "stdout",
          "text": [
            "7\n",
            "6\n",
            "5\n",
            "4\n",
            "3\n",
            "2\n",
            "1\n"
          ]
        }
      ]
    },
    {
      "cell_type": "code",
      "source": [
        "n = 1234567\n",
        "digits = [int(d) for d in str(n)]   # List Comprehension\n",
        "print(digits)"
      ],
      "metadata": {
        "colab": {
          "base_uri": "https://localhost:8080/"
        },
        "id": "-FFTb-IwoWYP",
        "outputId": "5718174e-e172-4703-b44a-3cdd27fd0209"
      },
      "execution_count": null,
      "outputs": [
        {
          "output_type": "stream",
          "name": "stdout",
          "text": [
            "[1, 2, 3, 4, 5, 6, 7]\n"
          ]
        }
      ]
    },
    {
      "cell_type": "markdown",
      "source": [
        "dir() function returns a list of all the attributes and methods of an object."
      ],
      "metadata": {
        "id": "DQnXWwOpoc-P"
      }
    },
    {
      "cell_type": "code",
      "source": [
        "num = [1,2,3,4,5] # original list\n",
        "print(dir(num))"
      ],
      "metadata": {
        "colab": {
          "base_uri": "https://localhost:8080/"
        },
        "id": "iNLVEYK3oap8",
        "outputId": "bb897b84-233a-4346-b79a-c8b720ef379c"
      },
      "execution_count": null,
      "outputs": [
        {
          "output_type": "stream",
          "name": "stdout",
          "text": [
            "['__add__', '__class__', '__class_getitem__', '__contains__', '__delattr__', '__delitem__', '__dir__', '__doc__', '__eq__', '__format__', '__ge__', '__getattribute__', '__getitem__', '__getstate__', '__gt__', '__hash__', '__iadd__', '__imul__', '__init__', '__init_subclass__', '__iter__', '__le__', '__len__', '__lt__', '__mul__', '__ne__', '__new__', '__reduce__', '__reduce_ex__', '__repr__', '__reversed__', '__rmul__', '__setattr__', '__setitem__', '__sizeof__', '__str__', '__subclasshook__', 'append', 'clear', 'copy', 'count', 'extend', 'index', 'insert', 'pop', 'remove', 'reverse', 'sort']\n"
          ]
        }
      ]
    },
    {
      "cell_type": "markdown",
      "source": [
        "abstract based classes(abc)"
      ],
      "metadata": {
        "id": "Cb30vYGTopAJ"
      }
    },
    {
      "cell_type": "code",
      "source": [
        "names = [\"Ema\",\"Tom\",\"Hinton\"] # original list\n",
        "looper = names.__iter__()     # This line correctly creates an iterator object from your list\n",
        "print(looper)\n",
        "print(type(names))\n",
        "print(type(looper))"
      ],
      "metadata": {
        "colab": {
          "base_uri": "https://localhost:8080/"
        },
        "id": "E63g-XuRoiTY",
        "outputId": "684c5fc4-ecc3-4e78-93ad-21bda4c875fd"
      },
      "execution_count": null,
      "outputs": [
        {
          "output_type": "stream",
          "name": "stdout",
          "text": [
            "<list_iterator object at 0x7933e40e2d70>\n",
            "<class 'list'>\n",
            "<class 'list_iterator'>\n"
          ]
        }
      ]
    },
    {
      "cell_type": "code",
      "source": [
        "looper = iter(names)   # same as \"looper = names.__iter__()\"\n",
        "print(looper)\n",
        "print(type(looper))"
      ],
      "metadata": {
        "colab": {
          "base_uri": "https://localhost:8080/"
        },
        "id": "yenyOK2KowH0",
        "outputId": "a982fd50-bda9-4962-e218-627dbe569d41"
      },
      "execution_count": null,
      "outputs": [
        {
          "output_type": "stream",
          "name": "stdout",
          "text": [
            "<list_iterator object at 0x7933e40e39d0>\n",
            "<class 'list_iterator'>\n"
          ]
        }
      ]
    },
    {
      "cell_type": "code",
      "source": [
        "looper = iter(names)\n",
        "print(next(looper))\n",
        "print(next(looper))\n",
        "print(next(looper))\n",
        "print(next(looper))    # Error: Since no more iterable element available (Throws Exception: StopIteration)"
      ],
      "metadata": {
        "colab": {
          "base_uri": "https://localhost:8080/",
          "height": 238
        },
        "id": "Acy9hjfZoyk4",
        "outputId": "a9b2f502-08b6-4118-eb6f-94a7a5c9b7d7"
      },
      "execution_count": null,
      "outputs": [
        {
          "output_type": "stream",
          "name": "stdout",
          "text": [
            "Ema\n",
            "Tom\n",
            "Hinton\n"
          ]
        },
        {
          "output_type": "error",
          "ename": "StopIteration",
          "evalue": "",
          "traceback": [
            "\u001b[0;31m---------------------------------------------------------------------------\u001b[0m",
            "\u001b[0;31mStopIteration\u001b[0m                             Traceback (most recent call last)",
            "\u001b[0;32m/tmp/ipython-input-499266116.py\u001b[0m in \u001b[0;36m<cell line: 0>\u001b[0;34m()\u001b[0m\n\u001b[1;32m      3\u001b[0m \u001b[0mprint\u001b[0m\u001b[0;34m(\u001b[0m\u001b[0mnext\u001b[0m\u001b[0;34m(\u001b[0m\u001b[0mlooper\u001b[0m\u001b[0;34m)\u001b[0m\u001b[0;34m)\u001b[0m\u001b[0;34m\u001b[0m\u001b[0;34m\u001b[0m\u001b[0m\n\u001b[1;32m      4\u001b[0m \u001b[0mprint\u001b[0m\u001b[0;34m(\u001b[0m\u001b[0mnext\u001b[0m\u001b[0;34m(\u001b[0m\u001b[0mlooper\u001b[0m\u001b[0;34m)\u001b[0m\u001b[0;34m)\u001b[0m\u001b[0;34m\u001b[0m\u001b[0;34m\u001b[0m\u001b[0m\n\u001b[0;32m----> 5\u001b[0;31m \u001b[0mprint\u001b[0m\u001b[0;34m(\u001b[0m\u001b[0mnext\u001b[0m\u001b[0;34m(\u001b[0m\u001b[0mlooper\u001b[0m\u001b[0;34m)\u001b[0m\u001b[0;34m)\u001b[0m    \u001b[0;31m# Error: Since no more iterable element available (Throws Exception: StopIteration)\u001b[0m\u001b[0;34m\u001b[0m\u001b[0;34m\u001b[0m\u001b[0m\n\u001b[0m",
            "\u001b[0;31mStopIteration\u001b[0m: "
          ]
        }
      ]
    },
    {
      "cell_type": "code",
      "source": [
        "# Iterating the list using iter() and accesing next element by next()\n",
        "names = [\"Ema\",\"Tom\",\"Hinton\"] # original list\n",
        "looper = iter(names)\n",
        "while True:\n",
        "    try:\n",
        "        name = next(looper)\n",
        "        print(name)\n",
        "    except StopIteration:\n",
        "        break"
      ],
      "metadata": {
        "colab": {
          "base_uri": "https://localhost:8080/"
        },
        "id": "9fBYpQL8o2tZ",
        "outputId": "a68a56f3-f171-403c-a966-da9f845debbc"
      },
      "execution_count": null,
      "outputs": [
        {
          "output_type": "stream",
          "name": "stdout",
          "text": [
            "Ema\n",
            "Tom\n",
            "Hinton\n"
          ]
        }
      ]
    },
    {
      "cell_type": "markdown",
      "source": [
        "Map function"
      ],
      "metadata": {
        "id": "lF2GZgrko_Th"
      }
    },
    {
      "cell_type": "code",
      "source": [
        "def square(x):\n",
        "    return x*x\n",
        "numbers = [1,2,3,4,5]\n",
        "print(map(square,numbers))   # creates a map object"
      ],
      "metadata": {
        "colab": {
          "base_uri": "https://localhost:8080/"
        },
        "id": "KwbXYuG8o7TQ",
        "outputId": "0a88c580-295b-43d1-8faa-45294ffd14ed"
      },
      "execution_count": null,
      "outputs": [
        {
          "output_type": "stream",
          "name": "stdout",
          "text": [
            "<map object at 0x7933e40e1060>\n"
          ]
        }
      ]
    },
    {
      "cell_type": "code",
      "source": [
        "def square(x):\n",
        "    return x*x\n",
        "numbers = [1,2,3,4,5]\n",
        "print(list(map(square,numbers)))  # create a list using map"
      ],
      "metadata": {
        "colab": {
          "base_uri": "https://localhost:8080/"
        },
        "id": "lNDgQaAApCYS",
        "outputId": "d7e304f4-6b14-4e0b-c641-de9ee13a0d2d"
      },
      "execution_count": null,
      "outputs": [
        {
          "output_type": "stream",
          "name": "stdout",
          "text": [
            "[1, 4, 9, 16, 25]\n"
          ]
        }
      ]
    },
    {
      "cell_type": "code",
      "source": [
        "def square(x):\n",
        "    return x*x\n",
        "numbers = [1,2,3,4,5]\n",
        "\n",
        "for num in map(square, numbers):\n",
        "    print(num)                    # printing the squared numbers"
      ],
      "metadata": {
        "colab": {
          "base_uri": "https://localhost:8080/"
        },
        "id": "I7Z1SpzPpEev",
        "outputId": "a3634f05-6839-4f71-b3c8-6c8d11470a44"
      },
      "execution_count": null,
      "outputs": [
        {
          "output_type": "stream",
          "name": "stdout",
          "text": [
            "1\n",
            "4\n",
            "9\n",
            "16\n",
            "25\n"
          ]
        }
      ]
    },
    {
      "cell_type": "code",
      "source": [
        "numbers = [1,2,3,4,5]\n",
        "print(list(map(lambda x:x*x,numbers)))  # using lambda function"
      ],
      "metadata": {
        "colab": {
          "base_uri": "https://localhost:8080/"
        },
        "id": "MRPvl6cRpGxS",
        "outputId": "cb5bbb3c-92f5-44db-e3ce-8ed8a5b49c29"
      },
      "execution_count": null,
      "outputs": [
        {
          "output_type": "stream",
          "name": "stdout",
          "text": [
            "[1, 4, 9, 16, 25]\n"
          ]
        }
      ]
    },
    {
      "cell_type": "code",
      "source": [
        "numbers = [1,2,3,4,5]\n",
        "print(list(filter(lambda x:x>3,numbers)))  # filters the elements that satisfies the condition"
      ],
      "metadata": {
        "colab": {
          "base_uri": "https://localhost:8080/"
        },
        "id": "i842P5OXpKJI",
        "outputId": "ae3cdfc7-5d7d-4845-869f-39aa51669560"
      },
      "execution_count": null,
      "outputs": [
        {
          "output_type": "stream",
          "name": "stdout",
          "text": [
            "[4, 5]\n"
          ]
        }
      ]
    },
    {
      "cell_type": "code",
      "source": [
        "# Get a String and convert it into lower case using function\n",
        "def lower_case(str1):\n",
        "    return str1.lower()\n",
        "str1 = input(\"Enter the string: \")\n",
        "lower_case(str1)"
      ],
      "metadata": {
        "colab": {
          "base_uri": "https://localhost:8080/",
          "height": 54
        },
        "id": "zPpjW5dkpMb-",
        "outputId": "8334d696-0ca5-4315-bbb9-d56925606246"
      },
      "execution_count": null,
      "outputs": [
        {
          "name": "stdout",
          "output_type": "stream",
          "text": [
            "Enter the string: Hello\n"
          ]
        },
        {
          "output_type": "execute_result",
          "data": {
            "text/plain": [
              "'hello'"
            ],
            "application/vnd.google.colaboratory.intrinsic+json": {
              "type": "string"
            }
          },
          "metadata": {},
          "execution_count": 26
        }
      ]
    },
    {
      "cell_type": "code",
      "source": [
        "# Take a list of names, convert it to upper case and using map and lambda function convert it to lower case\n",
        "names = [\"Ema\",\"Tom\",\"Hinton\"] # original list\n",
        "for i in names:\n",
        "    i.upper()\n",
        "print(names)\n",
        "print(list(map(lambda x:x.lower(),names)))"
      ],
      "metadata": {
        "colab": {
          "base_uri": "https://localhost:8080/"
        },
        "id": "oTFGStG2pSpt",
        "outputId": "99895149-2c71-469b-bd36-addad3feba71"
      },
      "execution_count": null,
      "outputs": [
        {
          "output_type": "stream",
          "name": "stdout",
          "text": [
            "['Ema', 'Tom', 'Hinton']\n",
            "['ema', 'tom', 'hinton']\n"
          ]
        }
      ]
    },
    {
      "cell_type": "markdown",
      "source": [
        "Reduce function"
      ],
      "metadata": {
        "id": "uA3JdQ4hpb7E"
      }
    },
    {
      "cell_type": "code",
      "source": [
        "from functools import reduce\n",
        "numbers = [1,2,3,4,5]\n",
        "print(reduce(lambda x,y:x+y,numbers))   #The reduce() function applies a function of two arguments cumulatively to the items of a sequence, from left to right, to reduce the sequence to a single value."
      ],
      "metadata": {
        "colab": {
          "base_uri": "https://localhost:8080/"
        },
        "id": "sef3xeGypZ7n",
        "outputId": "562acd2e-46f0-4511-8c77-86fbef75bd86"
      },
      "execution_count": null,
      "outputs": [
        {
          "output_type": "stream",
          "name": "stdout",
          "text": [
            "15\n"
          ]
        }
      ]
    },
    {
      "cell_type": "code",
      "source": [
        "from functools import reduce\n",
        "\n",
        "# A list of tokens (words) that form an inspirational quote\n",
        "tokens = ['Don’t', 'watch','the', 'clock;', 'do', 'what','it', 'does.', 'Keep', 'going.']\n",
        "\n",
        "# Use reduce() with a lambda function to join the tokens\n",
        "quote = reduce(lambda combined_string, word: combined_string + \" \" + word, tokens)\n",
        "print(quote)"
      ],
      "metadata": {
        "colab": {
          "base_uri": "https://localhost:8080/"
        },
        "id": "Au1KY_gYpfBw",
        "outputId": "d5aed081-fb42-4f08-d3f2-3296ae23e82c"
      },
      "execution_count": null,
      "outputs": [
        {
          "output_type": "stream",
          "name": "stdout",
          "text": [
            "Don’t watch the clock; do what it does. Keep going.\n"
          ]
        }
      ]
    },
    {
      "cell_type": "markdown",
      "source": [
        "THEME: Map, filter, and reduce together form a complete functional pipeline for transforming, selecting, and aggregating data."
      ],
      "metadata": {
        "id": "Ecd4MAP4qEmp"
      }
    },
    {
      "cell_type": "code",
      "source": [],
      "metadata": {
        "id": "KqT-SBVup-Ad"
      },
      "execution_count": null,
      "outputs": []
    }
  ]
}