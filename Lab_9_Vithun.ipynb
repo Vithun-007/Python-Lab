{
  "nbformat": 4,
  "nbformat_minor": 0,
  "metadata": {
    "colab": {
      "provenance": []
    },
    "kernelspec": {
      "name": "python3",
      "display_name": "Python 3"
    },
    "language_info": {
      "name": "python"
    }
  },
  "cells": [
    {
      "cell_type": "markdown",
      "source": [
        "LAB 9\n",
        "\n",
        "VITHUN G S\n",
        "\n",
        "22MID0099"
      ],
      "metadata": {
        "id": "D7XpQEaGiZEk"
      }
    },
    {
      "cell_type": "code",
      "execution_count": 1,
      "metadata": {
        "id": "tDzDk4g2hzZT"
      },
      "outputs": [],
      "source": [
        "# create a class (that do nothing)\n",
        "class Emp:\n",
        "    pass"
      ]
    },
    {
      "cell_type": "code",
      "source": [
        "e1 = Emp() # create a object of a class"
      ],
      "metadata": {
        "id": "xKK7JqufijDx"
      },
      "execution_count": 2,
      "outputs": []
    },
    {
      "cell_type": "code",
      "source": [
        "print(e1)"
      ],
      "metadata": {
        "colab": {
          "base_uri": "https://localhost:8080/"
        },
        "id": "x0_yYlJYilML",
        "outputId": "6bfb09bf-e443-4a59-d22e-e532c16fa669"
      },
      "execution_count": 3,
      "outputs": [
        {
          "output_type": "stream",
          "name": "stdout",
          "text": [
            "<__main__.Emp object at 0x7a63d5f6aad0>\n"
          ]
        }
      ]
    },
    {
      "cell_type": "code",
      "source": [
        "print(Emp)  # printing the Class type"
      ],
      "metadata": {
        "colab": {
          "base_uri": "https://localhost:8080/"
        },
        "id": "K3gqdqsEi0GV",
        "outputId": "8be696d9-377b-4ddf-aee9-965e07e5c1bf"
      },
      "execution_count": 4,
      "outputs": [
        {
          "output_type": "stream",
          "name": "stdout",
          "text": [
            "<class '__main__.Emp'>\n"
          ]
        }
      ]
    },
    {
      "cell_type": "code",
      "source": [
        "# Assingning attributes to the class\n",
        "e1.first_name = \"Vithun\"\n",
        "e1.last_name = \"G S\""
      ],
      "metadata": {
        "id": "zN63vChpi2Ws"
      },
      "execution_count": 5,
      "outputs": []
    },
    {
      "cell_type": "code",
      "source": [
        "print(e1.first_name)\n",
        "print(e1.last_name)"
      ],
      "metadata": {
        "colab": {
          "base_uri": "https://localhost:8080/"
        },
        "id": "n53JNY2Ni-sk",
        "outputId": "6b1c3972-c4a9-4713-c313-c99004f29184"
      },
      "execution_count": 6,
      "outputs": [
        {
          "output_type": "stream",
          "name": "stdout",
          "text": [
            "Vithun\n",
            "G S\n"
          ]
        }
      ]
    },
    {
      "cell_type": "code",
      "source": [
        "# create a class (that contains attributes and methods)\n",
        "class Employee:\n",
        "    def __init__(self, first_name, last_name):          # first_name, last_name and email are calles as instance variables (attributes)\n",
        "        self.first_name = first_name\n",
        "        self.last_name = last_name\n",
        "        self.email = f\"{self.first_name}1@gmail.com\"\n",
        "    def fullname(self):\n",
        "        return f\"{self.first_name} {self.last_name}\"     # printing the full name of the employee"
      ],
      "metadata": {
        "id": "t1LLfuOXi_c9"
      },
      "execution_count": 7,
      "outputs": []
    },
    {
      "cell_type": "code",
      "source": [
        "emp1 = Employee(\"Vithun\",\"G S\") # create a object of a class"
      ],
      "metadata": {
        "id": "gPIPoEE3jC_b"
      },
      "execution_count": 8,
      "outputs": []
    },
    {
      "cell_type": "code",
      "source": [
        "print(emp1.first_name)\n",
        "print(emp1.last_name)"
      ],
      "metadata": {
        "colab": {
          "base_uri": "https://localhost:8080/"
        },
        "id": "RlEB9H23jGZu",
        "outputId": "dcea3672-5336-4288-fce6-e619e6cc744f"
      },
      "execution_count": 9,
      "outputs": [
        {
          "output_type": "stream",
          "name": "stdout",
          "text": [
            "Vithun\n",
            "G S\n"
          ]
        }
      ]
    },
    {
      "cell_type": "code",
      "source": [
        "print(emp1.email) # email is an attribute that is generated internally within the __init__ method using other attributes."
      ],
      "metadata": {
        "colab": {
          "base_uri": "https://localhost:8080/"
        },
        "id": "9OzxotQAjeZr",
        "outputId": "7356c191-63d2-4513-ed83-e3edcf2acf77"
      },
      "execution_count": 10,
      "outputs": [
        {
          "output_type": "stream",
          "name": "stdout",
          "text": [
            "Vithun1@gmail.com\n"
          ]
        }
      ]
    },
    {
      "cell_type": "code",
      "source": [
        "print(emp1.fullname()) # accessing the method (member function) of a class"
      ],
      "metadata": {
        "colab": {
          "base_uri": "https://localhost:8080/"
        },
        "id": "bHpOw3Kkjio7",
        "outputId": "d3c1ef32-5030-408b-bd25-8b575aa90be9"
      },
      "execution_count": 11,
      "outputs": [
        {
          "output_type": "stream",
          "name": "stdout",
          "text": [
            "Vithun G S\n"
          ]
        }
      ]
    },
    {
      "cell_type": "code",
      "source": [
        "print(emp1.fullname)  # printing a representation of the method object itself."
      ],
      "metadata": {
        "colab": {
          "base_uri": "https://localhost:8080/"
        },
        "id": "I04afVCZjl5G",
        "outputId": "41af6f42-facc-4ed9-a95f-b5dc809ca243"
      },
      "execution_count": 12,
      "outputs": [
        {
          "output_type": "stream",
          "name": "stdout",
          "text": [
            "<bound method Employee.fullname of <__main__.Employee object at 0x7a63d5ba6350>>\n"
          ]
        }
      ]
    },
    {
      "cell_type": "code",
      "source": [
        "class Employee:\n",
        "    # Class variable to track the total number of employees\n",
        "    num_of_employees = 0\n",
        "\n",
        "    def __init__(self, first_name, last_name, pay):\n",
        "        self.first_name = first_name\n",
        "        self.last_name = last_name\n",
        "        self.pay = pay\n",
        "        self.email = f\"{first_name}.{last_name}@company.com\"\n",
        "\n",
        "        # Increment the employee count every time a new employee is created\n",
        "        Employee.num_of_employees += 1\n",
        "\n",
        "    def fullname(self):\n",
        "        return f\"{self.first_name} {self.last_name}\""
      ],
      "metadata": {
        "id": "weKYjBg-jpAK"
      },
      "execution_count": 13,
      "outputs": []
    },
    {
      "cell_type": "code",
      "source": [
        "# object creation and accessing the members and member functions of the class\n",
        "print(f\"Initial employee count: {Employee.num_of_employees}\")  # Accessing the class variable\n",
        "\n",
        "emp_1 = Employee('Elon', 'Musk', 50000)\n",
        "emp_2 = Employee('Donald', 'Trump', 60000)"
      ],
      "metadata": {
        "colab": {
          "base_uri": "https://localhost:8080/"
        },
        "id": "l4pyyfZIjrhn",
        "outputId": "448d51c4-9dc7-46c3-9aac-6b91d81f7ffe"
      },
      "execution_count": 14,
      "outputs": [
        {
          "output_type": "stream",
          "name": "stdout",
          "text": [
            "Initial employee count: 0\n"
          ]
        }
      ]
    },
    {
      "cell_type": "code",
      "source": [
        "# Accessing the class variable\n",
        "print(f\"Current employee count: {Employee.num_of_employees}\")"
      ],
      "metadata": {
        "colab": {
          "base_uri": "https://localhost:8080/"
        },
        "id": "DqAGVjs8jvgz",
        "outputId": "38983d33-d715-4408-c53f-f9b81907d760"
      },
      "execution_count": 15,
      "outputs": [
        {
          "output_type": "stream",
          "name": "stdout",
          "text": [
            "Current employee count: 2\n"
          ]
        }
      ]
    },
    {
      "cell_type": "code",
      "source": [
        "# printing the name of the employees\n",
        "print(emp_1.fullname())\n",
        "print(emp_2.fullname())"
      ],
      "metadata": {
        "colab": {
          "base_uri": "https://localhost:8080/"
        },
        "id": "U0Vp4WdAj7Kr",
        "outputId": "11f214aa-f2de-446c-90d8-7989d687f840"
      },
      "execution_count": 16,
      "outputs": [
        {
          "output_type": "stream",
          "name": "stdout",
          "text": [
            "Elon Musk\n",
            "Donald Trump\n"
          ]
        }
      ]
    },
    {
      "cell_type": "code",
      "source": [],
      "metadata": {
        "id": "_3U_2YgCj_tA"
      },
      "execution_count": 16,
      "outputs": []
    }
  ]
}