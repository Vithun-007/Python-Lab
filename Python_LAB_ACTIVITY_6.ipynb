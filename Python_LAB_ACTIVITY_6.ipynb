{
  "cells": [
    {
      "cell_type": "markdown",
      "metadata": {
        "colab_type": "text",
        "id": "view-in-github"
      },
      "source": [
        "<a href=\"https://colab.research.google.com/github/GOKULA-127/ADV-PYTHON/blob/main/Python_LAB_ACTIVITY_6.ipynb\" target=\"_parent\"><img src=\"https://colab.research.google.com/assets/colab-badge.svg\" alt=\"Open In Colab\"/></a>"
      ]
    },
    {
      "cell_type": "code",
      "execution_count": 1,
      "metadata": {
        "id": "CtOLX8__g6gV"
      },
      "outputs": [],
      "source": [
        "#Unpacking Sequence\n",
        "ODDS = [1,3,5,7]  # Original list\n",
        "a,b,c,d = ODDS # Unpacking the List"
      ]
    },
    {
      "cell_type": "code",
      "execution_count": 2,
      "metadata": {
        "colab": {
          "base_uri": "https://localhost:8080/"
        },
        "id": "ilIvGnkehAIX",
        "outputId": "011ceeef-3f62-4852-d779-6bc2bc243674"
      },
      "outputs": [
        {
          "name": "stdout",
          "output_type": "stream",
          "text": [
            "1\n",
            "3\n",
            "5\n",
            "7\n"
          ]
        }
      ],
      "source": [
        "print(a)    # printing the unpacked list elements\n",
        "print(b)\n",
        "print(c)\n",
        "print(d)"
      ]
    },
    {
      "cell_type": "code",
      "execution_count": 3,
      "metadata": {
        "id": "WT031E9whCRk"
      },
      "outputs": [],
      "source": [
        "a,b,*c = ODDS #Unpacking the list (Remaining elements will get stored in the variable c)"
      ]
    },
    {
      "cell_type": "code",
      "execution_count": 4,
      "metadata": {
        "colab": {
          "base_uri": "https://localhost:8080/"
        },
        "id": "GXyXlA2chFun",
        "outputId": "e39f03de-4159-403e-e669-4017ed994a81"
      },
      "outputs": [
        {
          "name": "stdout",
          "output_type": "stream",
          "text": [
            "1\n",
            "3\n",
            "[5, 7]\n"
          ]
        }
      ],
      "source": [
        "print(a)    # printing the unpacked list elements\n",
        "print(b)\n",
        "print(c)"
      ]
    },
    {
      "cell_type": "code",
      "execution_count": 5,
      "metadata": {
        "id": "fzX7btkkhIEP"
      },
      "outputs": [],
      "source": [
        "a,*b,c = ODDS # Unpacking the List"
      ]
    },
    {
      "cell_type": "code",
      "execution_count": 6,
      "metadata": {
        "colab": {
          "base_uri": "https://localhost:8080/"
        },
        "id": "HemJG2KJhKup",
        "outputId": "875b440c-511e-452b-839c-d9f9df16de99"
      },
      "outputs": [
        {
          "name": "stdout",
          "output_type": "stream",
          "text": [
            "1\n",
            "[3, 5]\n",
            "7\n"
          ]
        }
      ],
      "source": [
        "print(a)    # printing the unpacked list elements\n",
        "print(b)\n",
        "print(c)"
      ]
    },
    {
      "cell_type": "code",
      "execution_count": 7,
      "metadata": {
        "colab": {
          "base_uri": "https://localhost:8080/",
          "height": 183
        },
        "id": "XbRK3jqthM6S",
        "outputId": "824b5c49-4a74-49e3-dfbd-4e1d90820bcd"
      },
      "outputs": [
        {
          "ename": "TypeError",
          "evalue": "a() takes 3 positional arguments but 4 were given",
          "output_type": "error",
          "traceback": [
            "\u001b[0;31m---------------------------------------------------------------------------\u001b[0m",
            "\u001b[0;31mTypeError\u001b[0m                                 Traceback (most recent call last)",
            "\u001b[0;32m/tmp/ipython-input-3353483840.py\u001b[0m in \u001b[0;36m<cell line: 0>\u001b[0;34m()\u001b[0m\n\u001b[1;32m      1\u001b[0m \u001b[0;32mdef\u001b[0m \u001b[0ma\u001b[0m\u001b[0;34m(\u001b[0m\u001b[0mx\u001b[0m\u001b[0;34m,\u001b[0m\u001b[0my\u001b[0m\u001b[0;34m,\u001b[0m\u001b[0mz\u001b[0m\u001b[0;34m)\u001b[0m\u001b[0;34m:\u001b[0m       \u001b[0;31m# Unpacking the list\u001b[0m\u001b[0;34m\u001b[0m\u001b[0;34m\u001b[0m\u001b[0m\n\u001b[1;32m      2\u001b[0m     \u001b[0;32mreturn\u001b[0m \u001b[0;34m(\u001b[0m\u001b[0mx\u001b[0m\u001b[0;34m+\u001b[0m\u001b[0my\u001b[0m\u001b[0;34m+\u001b[0m\u001b[0mz\u001b[0m\u001b[0;34m)\u001b[0m\u001b[0;34m\u001b[0m\u001b[0;34m\u001b[0m\u001b[0m\n\u001b[0;32m----> 3\u001b[0;31m \u001b[0mprint\u001b[0m\u001b[0;34m(\u001b[0m\u001b[0ma\u001b[0m\u001b[0;34m(\u001b[0m\u001b[0;34m*\u001b[0m\u001b[0mODDS\u001b[0m\u001b[0;34m)\u001b[0m\u001b[0;34m)\u001b[0m     \u001b[0;31m# ERROR: It requires exactly 4 elements to be unpacked\u001b[0m\u001b[0;34m\u001b[0m\u001b[0;34m\u001b[0m\u001b[0m\n\u001b[0m",
            "\u001b[0;31mTypeError\u001b[0m: a() takes 3 positional arguments but 4 were given"
          ]
        }
      ],
      "source": [
        "def a(x,y,z):       # Unpacking the list\n",
        "    return (x+y+z)\n",
        "print(a(*ODDS))     # ERROR: It requires exactly 4 elements to be unpacked"
      ]
    },
    {
      "cell_type": "code",
      "execution_count": 8,
      "metadata": {
        "colab": {
          "base_uri": "https://localhost:8080/"
        },
        "id": "42n4oe-XhQqk",
        "outputId": "ec1c6790-f9b9-438a-853b-7ecd8b48ebb1"
      },
      "outputs": [
        {
          "name": "stdout",
          "output_type": "stream",
          "text": [
            "16\n"
          ]
        }
      ],
      "source": [
        "def a(x,y,z,p):       # Unpacking the list\n",
        "    return (x+y+z+p)\n",
        "print(a(*ODDS))"
      ]
    },
    {
      "cell_type": "code",
      "execution_count": 9,
      "metadata": {
        "colab": {
          "base_uri": "https://localhost:8080/"
        },
        "id": "6lArSE-yhS47",
        "outputId": "82713308-7995-4927-8d45-991d65510810"
      },
      "outputs": [
        {
          "name": "stdout",
          "output_type": "stream",
          "text": [
            "Hello, Gokula\n",
            "Hello, Vithun\n",
            "Hello, Hari\n",
            "Hello, Dhevi\n"
          ]
        }
      ],
      "source": [
        "def say_hi(*names):    # Unpacking the collection of string\n",
        "    for n in names:\n",
        "        print(f\"Hello, {n}\")\n",
        "say_hi(\"Gokula\",\"Vithun\",\"Hari\",\"Dhevi\")"
      ]
    },
    {
      "cell_type": "code",
      "execution_count": 10,
      "metadata": {
        "colab": {
          "base_uri": "https://localhost:8080/"
        },
        "id": "XWtccugmhasA",
        "outputId": "3442d2b0-3123-4f3a-e71e-48d22ab2d1c4"
      },
      "outputs": [
        {
          "name": "stdout",
          "output_type": "stream",
          "text": [
            "Code : Python\n",
            "School : SCOPE\n",
            "Course : CSI4007\n"
          ]
        }
      ],
      "source": [
        "# Unpacking the dictionary\n",
        "def show_info(**info):\n",
        "    for k,v in info.items():\n",
        "        print(f\"{k} : {v}\")\n",
        "\n",
        "data = {\"Code\":\"Python\",\n",
        "        \"School\":\"SCOPE\",\n",
        "        \"Course\":\"CSI4007\"\n",
        "       }\n",
        "show_info(**data)"
      ]
    },
    {
      "cell_type": "code",
      "execution_count": 11,
      "metadata": {
        "id": "G8dJnbqShdJf"
      },
      "outputs": [],
      "source": [
        "#Create a Empty Dictionary and insert keys and values\n",
        "dict1 = dict()   # Empty dict"
      ]
    },
    {
      "cell_type": "code",
      "execution_count": 12,
      "metadata": {
        "id": "SQ_Yw5zehiEY"
      },
      "outputs": [],
      "source": [
        "dict1[\"Name\"] = \"Gokula\"  # Inserting keys and values to dict\n",
        "dict1[\"School\"] = \"SCOPE\"\n"
      ]
    },
    {
      "cell_type": "code",
      "execution_count": 13,
      "metadata": {
        "colab": {
          "base_uri": "https://localhost:8080/"
        },
        "id": "xG0uyJ9ehlQY",
        "outputId": "6bc4a252-4075-4d51-ef68-8ddbb6c3531e"
      },
      "outputs": [
        {
          "name": "stdout",
          "output_type": "stream",
          "text": [
            "{'Name': 'Gokula', 'School': 'SCOPE'}\n"
          ]
        }
      ],
      "source": [
        "print(dict1) # Display dict"
      ]
    },
    {
      "cell_type": "code",
      "execution_count": 14,
      "metadata": {
        "id": "aWIKfTZdhocr"
      },
      "outputs": [],
      "source": [
        "dict2 = {}     # Empty dict"
      ]
    },
    {
      "cell_type": "code",
      "execution_count": 16,
      "metadata": {
        "id": "z-rVSi6mhqiH"
      },
      "outputs": [],
      "source": [
        "dict2[\"Name\"] = \"Kaushik\"  # Inserting keys and values to dict\n",
        "dict2[\"School\"] = \"SCORE\""
      ]
    },
    {
      "cell_type": "code",
      "execution_count": 17,
      "metadata": {
        "colab": {
          "base_uri": "https://localhost:8080/"
        },
        "id": "_09I3i9ThsfY",
        "outputId": "318fda37-38c9-4fc4-e08f-2b11e18c98d2"
      },
      "outputs": [
        {
          "name": "stdout",
          "output_type": "stream",
          "text": [
            "{'Name': 'Kaushik', 'School': 'SCORE'}\n"
          ]
        }
      ],
      "source": [
        "print(dict2) # Display dict"
      ]
    },
    {
      "cell_type": "code",
      "execution_count": null,
      "metadata": {
        "id": "feGEZdUahwgH"
      },
      "outputs": [],
      "source": []
    }
  ],
  "metadata": {
    "colab": {
      "authorship_tag": "ABX9TyMV6kJmWC06TN+JC7aauY7C",
      "include_colab_link": true,
      "provenance": []
    },
    "kernelspec": {
      "display_name": "Python 3",
      "name": "python3"
    },
    "language_info": {
      "name": "python"
    }
  },
  "nbformat": 4,
  "nbformat_minor": 0
}
